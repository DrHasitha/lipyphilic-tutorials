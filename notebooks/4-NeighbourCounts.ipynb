{
 "cells": [
  {
   "cell_type": "markdown",
   "metadata": {},
   "source": [
    "# Quantifying local lipid environments\n",
    "\n",
    "The local environment of a lipid refers to the lipid composition of the patch of membrane surrounding a reference lipid. The local lipid environment can tell us whether there is a preferential aggregation of specific lipid species within a membrane.\n",
    "\n",
    "We will first look at the local environment of lipids in a DPPC, DOPC, and cholesterol membrane simulated by [Smith et al.](https://www.biorxiv.org/content/10.1101/2021.05.24.445501v3). We will later perform similar calculations for the neuronal plasma membrane studied by [Ingólfsson et al. (2017)](https://www.cell.com/biophysj/fulltext/S0006-3495(17)31132-3).\n"
   ]
  },
  {
   "cell_type": "code",
   "execution_count": 1,
   "metadata": {},
   "outputs": [],
   "source": [
    "import pathlib\n",
    "import pickle\n",
    "\n",
    "import numpy as np\n",
    "import pandas as pd\n",
    "import matplotlib.pyplot as plt\n",
    "\n",
    "import MDAnalysis as mda\n",
    "from lipyphilic.lib.neighbours import Neighbours\n"
   ]
  },
  {
   "cell_type": "markdown",
   "metadata": {},
   "source": [
    "## Load the topology and trajectory using MDAnalysis"
   ]
  },
  {
   "cell_type": "code",
   "execution_count": 2,
   "metadata": {},
   "outputs": [],
   "source": [
    "u = mda.Universe(\"../datafiles/dppc-dopc-chol.tpr\", \"../datafiles/dppc-dopc-chol.xtc\")"
   ]
  },
  {
   "cell_type": "markdown",
   "metadata": {},
   "source": [
    "## Generate a neighbour matrix\n",
    "\n",
    "Before we quantigy local lipid environments, we must first use **lipyphilic** to construct an adjacency matrix, $A$, that describes whether each pair of lipid molecules are neighbouring one another or not. The neighbour matrix is defined as follows:\n",
    "\n",
    "- $A_{ij}=1$ if lipid $i$ is neighbouring lipid $j$\n",
    "- $A_{ij}=0$ otherwise"
   ]
  },
  {
   "cell_type": "markdown",
   "metadata": {},
   "source": [
    "To construct the neighbour matrix, we will use the class `lipyphilic.lib.neighbours.Neighbours`."
   ]
  },
  {
   "cell_type": "code",
   "execution_count": 3,
   "metadata": {},
   "outputs": [],
   "source": [
    "neighbours = Neighbours(\n",
    "    universe=u,\n",
    "    lipid_sel=\"name GL1 GL2 ROH\",\n",
    "    cutoff=12.0\n",
    ")"
   ]
  },
  {
   "cell_type": "markdown",
   "metadata": {},
   "source": [
    "The above selection (`lipid_sel=name GL1 GL2 ROH`) will select the glycerol backbone of the phospholipids and the hydroxyl headgroup of cholesterol.\n",
    "\n",
    "A phospholipid will be considered to be neighbouring a cholesterol molecule if either its *GL1* or *GL2* bead is within *12* Å of the ROH bead of the cholesterol. For neighbouring lipids, the distances between their respective *GL1* and \"GL2* beads are be considered; that is, if two phosphoslipids have any of their glycerol backbone beads within *12* Å of one another, they will be considered neighbours.\n"
   ]
  },
  {
   "cell_type": "markdown",
   "metadata": {},
   "source": [
    "We then select which frames of the trajectory to analyse (`None` will use every frame) and select to display a progress bar (`verbose=True`):\n",
    "  "
   ]
  },
  {
   "cell_type": "code",
   "execution_count": null,
   "metadata": {},
   "outputs": [
    {
     "data": {
      "application/vnd.jupyter.widget-view+json": {
       "model_id": "eaae8c50cebf494e8d0adf4896ee2049",
       "version_major": 2,
       "version_minor": 0
      },
      "text/plain": [
       "  0%|          | 0/51 [00:00<?, ?it/s]"
      ]
     },
     "metadata": {},
     "output_type": "display_data"
    }
   ],
   "source": [
    "neighbours.run(\n",
    "    start=None,\n",
    "    stop=None,\n",
    "    step=None,\n",
    "    verbose=True\n",
    ")\n"
   ]
  },
  {
   "cell_type": "markdown",
   "metadata": {},
   "source": [
    "## Accessing the results"
   ]
  },
  {
   "cell_type": "markdown",
   "metadata": {},
   "source": [
    "The results are stored in the `neighbours.Neighbours` attribute as a NumPy of Compressed Sparse Row matrices.\n",
    "\n",
    "There is one matrix for each frame used in the analysis:"
   ]
  },
  {
   "cell_type": "code",
   "execution_count": null,
   "metadata": {},
   "outputs": [],
   "source": [
    "neighbours.neighbours.size"
   ]
  },
  {
   "cell_type": "markdown",
   "metadata": {},
   "source": [
    "Let's take a look at the first frame:"
   ]
  },
  {
   "cell_type": "code",
   "execution_count": null,
   "metadata": {},
   "outputs": [],
   "source": [
    "first_matrix = neighbours.neighbours[0]"
   ]
  },
  {
   "cell_type": "code",
   "execution_count": null,
   "metadata": {},
   "outputs": [],
   "source": [
    "first_matrix"
   ]
  },
  {
   "cell_type": "markdown",
   "metadata": {},
   "source": [
    "This is a scipy Compressed Sparse Row matrix. It has a shape of ($N_{\\rm lipids}, N_{\\rm lipids}$)\n"
   ]
  },
  {
   "cell_type": "markdown",
   "metadata": {},
   "source": [
    "We can extract pairs of neighbouring lipids as follows:"
   ]
  },
  {
   "cell_type": "code",
   "execution_count": null,
   "metadata": {},
   "outputs": [],
   "source": [
    "reference, neighbour = first_matrix.nonzero()"
   ]
  },
  {
   "cell_type": "code",
   "execution_count": null,
   "metadata": {},
   "outputs": [],
   "source": [
    "print(reference)"
   ]
  },
  {
   "cell_type": "code",
   "execution_count": null,
   "metadata": {},
   "outputs": [],
   "source": [
    "print(neighbour)"
   ]
  },
  {
   "cell_type": "markdown",
   "metadata": {},
   "source": [
    "We see that at this first frame, the lipid with residue index 0 is neighbouring lipids 916, 2265, 3492, and so on."
   ]
  },
  {
   "cell_type": "markdown",
   "metadata": {},
   "source": [
    "## Calculating the local lipid environment"
   ]
  },
  {
   "cell_type": "markdown",
   "metadata": {},
   "source": [
    "Once we have constructed our adjacency matrices, we can use the `count_neighbours` helper method to quantify the local environment of each lipid at each frame:"
   ]
  },
  {
   "cell_type": "code",
   "execution_count": null,
   "metadata": {},
   "outputs": [],
   "source": [
    "counts = neighbours.count_neighbours()\n"
   ]
  },
  {
   "cell_type": "markdown",
   "metadata": {},
   "source": [
    "`counts` is a Pandas DataFrame in which each row contains the following information:\n",
    "\n",
    "- lipid residue name\n",
    "- lipid residue index\n",
    "- frame number\n",
    "- number of cholesterol neighbours\n",
    "- number of DOPC neighbours\n",
    "- number of DPPC neighbours\n",
    "- total number of neighbours\n",
    "\n",
    "Let's take a look at the DataFrame:\n"
   ]
  },
  {
   "cell_type": "code",
   "execution_count": null,
   "metadata": {},
   "outputs": [],
   "source": [
    "counts"
   ]
  },
  {
   "cell_type": "markdown",
   "metadata": {},
   "source": [
    "We see that at the first frame, the first cholesterol molecule (residue index 0) has:\n",
    "- 3 cholesterol neighbours\n",
    "- 3 DOPC neighbours\n",
    "- 4 DPPC neighbours\n",
    "- 10 neighbours in total\n"
   ]
  },
  {
   "cell_type": "markdown",
   "metadata": {},
   "source": [
    "## Store the reuslts\n",
    "There are a couple of ways of storing the results from the analysis."
   ]
  },
  {
   "cell_type": "markdown",
   "metadata": {},
   "source": [
    "Well store the results in the following directory:"
   ]
  },
  {
   "cell_type": "code",
   "execution_count": null,
   "metadata": {},
   "outputs": [],
   "source": [
    "results_directory = pathlib.Path(\n",
    "    \"../results/neighbours\"\n",
    ")\n",
    "\n",
    "# Create the directory if it doesn't already exist\n",
    "results_directory.resolve().mkdir(exist_ok=True, parents=True)\n"
   ]
  },
  {
   "cell_type": "markdown",
   "metadata": {},
   "source": [
    "1. You can persist the `Neighbours` object using pickle"
   ]
  },
  {
   "cell_type": "code",
   "execution_count": null,
   "metadata": {},
   "outputs": [],
   "source": [
    "# Location to store the results\n",
    "filename = results_directory.joinpath(\"neighbours-dppc-dopc-chol.pkl\")\n",
    "print(filename)"
   ]
  },
  {
   "cell_type": "code",
   "execution_count": null,
   "metadata": {},
   "outputs": [],
   "source": [
    "# store the object\n",
    "with open(filename, 'wb') as f:\n",
    "    pickle.dump(neighbours, f)\n",
    "    "
   ]
  },
  {
   "cell_type": "code",
   "execution_count": null,
   "metadata": {},
   "outputs": [],
   "source": [
    "# load for later usage\n",
    "with open(filename, 'rb') as f:\n",
    "    neighbours = pickle.load(f)\n"
   ]
  },
  {
   "cell_type": "markdown",
   "metadata": {},
   "source": [
    "2. You store the pandas DataFrame of the local lipid environment"
   ]
  },
  {
   "cell_type": "code",
   "execution_count": null,
   "metadata": {},
   "outputs": [],
   "source": [
    "# Location to store the results\n",
    "filename = results_directory.joinpath(\"neighbour-counts-dppc-dopc-chol.h5\")\n",
    "print(filename)"
   ]
  },
  {
   "cell_type": "code",
   "execution_count": null,
   "metadata": {},
   "outputs": [],
   "source": [
    "# store the counts DataFrame\n",
    "counts.to_hdf(\n",
    "    filename,\n",
    "    key='df',\n",
    "    mode='w'\n",
    ")\n"
   ]
  },
  {
   "cell_type": "code",
   "execution_count": null,
   "metadata": {},
   "outputs": [],
   "source": [
    "# load for later usage\n",
    "counts = pd.read_hdf(filename)\n"
   ]
  },
  {
   "cell_type": "markdown",
   "metadata": {},
   "source": [
    "# Lipid enrichment/depletion index\n",
    "\n",
    "The `count_neighbours` method will, by default, return the number of neighbouring lipid species around each individual lipid.\n",
    "\n",
    "However, a clearer picture of aggregation of certain lipid species can be gained by instead considering the [enrichment/depletion index](https://pubs.acs.org/doi/10.1021/ja507832e) of each lipid species. \n",
    "\n",
    "The lipid enrichment index of species $B$ around species $A$, $E_{AB}$, may be defined as:\n",
    "$$\n",
    "E_{AB} = N_{AB} / \\langle N_B \\rangle\n",
    "$$\n",
    "\n",
    "where $N_{AB}$ is the number of molecules of species $B$ around species $A$, and $\\langle N_B \\rangle$ is the mean number of species $B$ around any species."
   ]
  },
  {
   "cell_type": "markdown",
   "metadata": {},
   "source": [
    "To calculate the enrichment/depletion index of each species at each frame, as well as the raw neighbour counts, we can set the `return_enrichment` keyword to `True` when we call `count_neighbours`:"
   ]
  },
  {
   "cell_type": "code",
   "execution_count": null,
   "metadata": {},
   "outputs": [],
   "source": [
    "counts, enrichment = neighbours.count_neighbours(return_enrichment=True)"
   ]
  },
  {
   "cell_type": "markdown",
   "metadata": {},
   "source": [
    "This will return two Pandas DataFrames, one containing the neighbour counts and the other the enrichment/depletion index of each species at each frame. \n",
    "\n",
    "`enrichment` contains the following information for each row:\n",
    "\n",
    "- lipid species\n",
    "- frame number\n",
    "- enrichment of cholesterol\n",
    "- enrichment of DOPC\n",
    "- enrichment of DPPC\n",
    "\n",
    "Let's take a look at the DataFrame:\n"
   ]
  },
  {
   "cell_type": "code",
   "execution_count": null,
   "metadata": {},
   "outputs": [],
   "source": [
    "enrichment"
   ]
  },
  {
   "cell_type": "markdown",
   "metadata": {},
   "source": [
    "**Values:**\n",
    "- **below 1 correspond to depletion**\n",
    "- **above 1 correspond to enrichment**\n"
   ]
  },
  {
   "cell_type": "markdown",
   "metadata": {},
   "source": [
    "We see that at the first frame, the local environment of cholesterol is:\n",
    "- depleted of cholesterol and DOPC\n",
    "- enriched in DPPC\n",
    "\n",
    "At the final frame, the local lipid environment of DPPC is:\n",
    "- enriched in cholesterol and DPPC\n",
    "- slightly depleted of DOPC\n"
   ]
  },
  {
   "cell_type": "markdown",
   "metadata": {},
   "source": [
    "## Plot the enrichment over time"
   ]
  },
  {
   "cell_type": "markdown",
   "metadata": {},
   "source": [
    "As we know the enrichment at each frame, we can plot the time-evolution of the enrichment/depletion index to see whether particular species form aggregates over time.\n"
   ]
  },
  {
   "cell_type": "markdown",
   "metadata": {},
   "source": [
    "### Plotting with Pandas"
   ]
  },
  {
   "cell_type": "code",
   "execution_count": null,
   "metadata": {},
   "outputs": [],
   "source": [
    "# Get a list of the species in the membrane\n",
    "unique_labels = counts.Label.unique()"
   ]
  },
  {
   "cell_type": "code",
   "execution_count": null,
   "metadata": {},
   "outputs": [],
   "source": [
    "# iterate over each species\n",
    "for ref in unique_labels:\n",
    "    \n",
    "    # get the enrichment of the current species\n",
    "    species_fe = enrichment.loc[enrichment.Label == ref].copy()\n",
    "    \n",
    "    # For plotting, we need to know the times used in the analysis\n",
    "    ps_to_microseconds = 1e-6\n",
    "    species_fe[\"Time\"] = species_fe[\"Frame\"].values * neighbours._trajectory.dt * ps_to_microseconds\n",
    "    \n",
    "    # For the current species, plot the enrichment of each other species over time\n",
    "    species_fe.plot.line(\n",
    "        x=r\"Time\",\n",
    "        y=[f\"fe{l}\" for l in unique_labels],\n",
    "        xlabel=r\"Time ($\\rm \\mu s$)\",\n",
    "        ylabel=\"Enrichment\"\n",
    "    )\n",
    "    \n",
    "    # Add label info\n",
    "    plt.title(f\"Reference: {ref}\", loc=\"left\", weight=\"bold\")\n",
    "    plt.legend(unique_labels, loc=\"lower left\", bbox_to_anchor=(1.01, 0.0), frameon=False, title=\"Neighbour\")\n",
    "    \n",
    "    plt.hlines(y=1.0, xmin=0, xmax=0.25, linestyle=\"--\", color=\"xkcd:grey\", alpha=0.8)\n",
    "    plt.show()\n",
    "    "
   ]
  },
  {
   "cell_type": "markdown",
   "metadata": {},
   "source": [
    "The trajectory we are using is a 250 ns time period from 7.75 µs to 8.0 µs. By this point, cholesterol and DPPC have demixed somewhat from DOPC, whilst DOPC has self-aggregated."
   ]
  },
  {
   "cell_type": "markdown",
   "metadata": {},
   "source": [
    "# Counting the number of $L_d$ or $L_o$ neighbours\n",
    "\n",
    "Instead of using the lipid resname to identify neighbouring lipids, any ordinal data may be used for counting lipid neighbours. This is done through use of the `count_by` and `count_by_labels` parameters.\n",
    "\n",
    "[In another tutorial](HiddenMarkovModel.ipynb), we construct a hidden Markov model based on lipid thicknesses in order to determine whether each lipid in each frame is liquid-ordered ($L_o$) or liquid-disordered ($L_d$). We will use this information here in order to quantify to local lipid environments.\n"
   ]
  },
  {
   "cell_type": "code",
   "execution_count": null,
   "metadata": {},
   "outputs": [],
   "source": [
    "# Load the lipid order data\n",
    "filename = \"../results/HMM/lipid-order.npy\"\n",
    "lipid_order = np.load(filename)\n"
   ]
  },
  {
   "cell_type": "markdown",
   "metadata": {},
   "source": [
    "`lipid_order` is a two-dimensional NumPy. Like many analyses in **lipyphilic**, the array is of shape ($N_{\\rm lipids}$, $N_{\\rm lipids}$) The:\n",
    "\n",
    "- rows correspond to individual lipids\n",
    "- columns correspond to individual frames.\n",
    "\n",
    "In the array, the ordered state of each lipid is defined as follows:\n",
    "\n",
    "- values of 1 indicate the lipid is in the $Ld$ state\n",
    "- values of -1 indicate the lipid is in the $Ld$ state\n",
    "\n",
    "Let's look at the array:\n"
   ]
  },
  {
   "cell_type": "code",
   "execution_count": null,
   "metadata": {},
   "outputs": [],
   "source": [
    "lipid_order"
   ]
  },
  {
   "cell_type": "markdown",
   "metadata": {},
   "source": [
    "We see the first lipid (first row) is $L_o$ both at the beginning and end of the frames used in the analysis.\n",
    "\n",
    "The second lipid (second row) is $L_o$ at the beginning of the analysis but $L_d$ at the end.\n",
    "\n"
   ]
  },
  {
   "cell_type": "markdown",
   "metadata": {},
   "source": [
    "## Pass the lipid order data to `count_neighbours`\n",
    "\n",
    "Because `lipid_order` has shape $N_{\\rm lipids}$, $N_{\\rm lipids}$, we can pass this NumPy as input to `count_neighbours`. `count_neighbours` will then use the lipid order data to define local lipid environments:\n"
   ]
  },
  {
   "cell_type": "code",
   "execution_count": null,
   "metadata": {},
   "outputs": [],
   "source": [
    "counts = neighbours.count_neighbours(\n",
    "    count_by=lipid_order,\n",
    "    count_by_labels={'Ld': -1, 'Lo': 1}  # tell count_neighbours that -1 and 1 correspond to Ld and Lo respectively\n",
    ")"
   ]
  },
  {
   "cell_type": "markdown",
   "metadata": {},
   "source": [
    "As before, `counts` is a Pandas DataFrame.\n",
    "\n",
    "However, this time, each row contains the following information:\n",
    "\n",
    "- lipid order ($L_d$ or $L_o$)\n",
    "- lipid residue index\n",
    "- frame number\n",
    "- number of $L_d$ neighbours\n",
    "- number of $L_o$ neighbours\n",
    "\n",
    "Let's take a look at the DataFrame:\n",
    "\n",
    "    "
   ]
  },
  {
   "cell_type": "code",
   "execution_count": null,
   "metadata": {},
   "outputs": [],
   "source": [
    "counts"
   ]
  },
  {
   "cell_type": "markdown",
   "metadata": {},
   "source": [
    "At the first frame, the lipid with residue index 0 is in the $L_o$ state. It has 3 $L_d$, neighbours, 7 $L_o$ neighbours, and 10 neighbours in total."
   ]
  },
  {
   "cell_type": "markdown",
   "metadata": {},
   "source": [
    "## Enrichment/depletion of $L_d$ or $L_o$ lipids"
   ]
  },
  {
   "cell_type": "markdown",
   "metadata": {},
   "source": [
    "As before, we can set `return_enrichment=True` to obtain the enrichment at each frame:"
   ]
  },
  {
   "cell_type": "code",
   "execution_count": null,
   "metadata": {},
   "outputs": [],
   "source": [
    "counts, enrichment = neighbours.count_neighbours(\n",
    "    count_by=lipid_order,\n",
    "    count_by_labels={'Ld': -1, 'Lo': 1},  # tell count_neighbours that -1 and 1 correspond to Ld and Lo respectively\n",
    "    return_enrichment=True\n",
    ")"
   ]
  },
  {
   "cell_type": "markdown",
   "metadata": {},
   "source": [
    "`enrichment` is a Pandas Dataframe that contains the enrichment/depletion index of each ordered state.\n",
    "\n",
    "`enrichment` contains the following information for each row:\n",
    "\n",
    "- lipid order ($L_d$ or $L_o$)\n",
    "- frame number\n",
    "- enrichment of $L_d$\n",
    "- depletion of $L_o$\n"
   ]
  },
  {
   "cell_type": "code",
   "execution_count": null,
   "metadata": {},
   "outputs": [],
   "source": [
    "enrichment"
   ]
  },
  {
   "cell_type": "markdown",
   "metadata": {},
   "source": [
    "# More complex mixtures\n",
    "\n",
    "The construction of the neighbour matrix, and quantification of local lipid environments, makes use of the powerful selection language of MDAnalysis. This means local lipid environments can readily be calculated even for membranes with highly complex compositions.\n",
    "\n",
    "Below we will quantigy to local lipid environment for each species in the 58-component neuronal plasma membrane studied by [Ingólfsson et al. (2017)](https://www.cell.com/biophysj/fulltext/S0006-3495(17)31132-3).\n"
   ]
  },
  {
   "cell_type": "code",
   "execution_count": null,
   "metadata": {},
   "outputs": [],
   "source": [
    "u = mda.Universe(\"../datafiles/LIM25_neuronal_plasma_membrane.gro\")"
   ]
  },
  {
   "cell_type": "code",
   "execution_count": null,
   "metadata": {},
   "outputs": [],
   "source": [
    "membrane = u.select_atoms(\"name GL1 GL2 AM1 AM2 ROH\").residues"
   ]
  },
  {
   "cell_type": "markdown",
   "metadata": {},
   "source": [
    "The above selects all lipids in our system:"
   ]
  },
  {
   "cell_type": "code",
   "execution_count": null,
   "metadata": {},
   "outputs": [],
   "source": [
    "print(f\"Number of lipids: {membrane.n_residues}\")\n",
    "print(f\"Number of lipid species: {np.unique(membrane.resnames).size}\")"
   ]
  },
  {
   "cell_type": "markdown",
   "metadata": {},
   "source": [
    "## Generate the neighbour matrix\n"
   ]
  },
  {
   "cell_type": "code",
   "execution_count": null,
   "metadata": {},
   "outputs": [],
   "source": [
    "# lipid_sel cover all 58 species in the membrane\n",
    "neighbours = Neighbours(\n",
    "    universe=u,\n",
    "    lipid_sel=\"name GL1 GL2 AM1 AM2 ROH\",\n",
    "    cutoff=12.0\n",
    ")\n"
   ]
  },
  {
   "cell_type": "code",
   "execution_count": null,
   "metadata": {},
   "outputs": [],
   "source": [
    "# Construct the neighbour matrix\n",
    "neighbours.run(\n",
    "    start=None,\n",
    "    stop=None,\n",
    "    step=None,\n",
    "    verbose=True\n",
    ")\n"
   ]
  },
  {
   "cell_type": "markdown",
   "metadata": {},
   "source": [
    "## Get the neighbour counts and enrichment/depletion of each lipid species"
   ]
  },
  {
   "cell_type": "code",
   "execution_count": null,
   "metadata": {},
   "outputs": [],
   "source": [
    "counts, enrichment = neighbours.count_neighbours(\n",
    "    return_enrichment=True\n",
    ")"
   ]
  },
  {
   "cell_type": "markdown",
   "metadata": {},
   "source": [
    "`counts` contains the number of each species around each individual lipid at each frame."
   ]
  },
  {
   "cell_type": "code",
   "execution_count": null,
   "metadata": {},
   "outputs": [],
   "source": [
    "counts.head()"
   ]
  },
  {
   "cell_type": "markdown",
   "metadata": {},
   "source": [
    "`enrichment` containts the enrichment/depletion index for each species at each frame"
   ]
  },
  {
   "cell_type": "code",
   "execution_count": null,
   "metadata": {},
   "outputs": [],
   "source": [
    "enrichment.head()"
   ]
  },
  {
   "cell_type": "markdown",
   "metadata": {},
   "source": [
    "## Plot a heatmap of the lipid enrichment/depletion"
   ]
  },
  {
   "cell_type": "code",
   "execution_count": null,
   "metadata": {},
   "outputs": [],
   "source": [
    "# Average the enricment values over time\n",
    "# Extract the enrichment value into a two-dimensional NumPy array\n",
    "enrichment_values = enrichment.groupby(\"Label\")[enrichment.columns[2:]].mean().values"
   ]
  },
  {
   "cell_type": "code",
   "execution_count": null,
   "metadata": {},
   "outputs": [],
   "source": [
    "# There is an enrichment value for each species around each other species\n",
    "enrichment_values.shape"
   ]
  },
  {
   "cell_type": "code",
   "execution_count": null,
   "metadata": {},
   "outputs": [],
   "source": [
    "# Extract the species residue names to label our heatmap\n",
    "labels = np.asarray([column.strip(\"fe\") for column in enrichment.columns if column.startswith(\"fe\")])"
   ]
  },
  {
   "cell_type": "code",
   "execution_count": null,
   "metadata": {},
   "outputs": [],
   "source": [
    "# This is a NumPy array containing each species name in the same order as seen in the enrichment DataFrame\n",
    "labels"
   ]
  },
  {
   "cell_type": "markdown",
   "metadata": {},
   "source": [
    "Now we can create our heatmap:"
   ]
  },
  {
   "cell_type": "code",
   "execution_count": null,
   "metadata": {},
   "outputs": [],
   "source": [
    "# Create a huge figure large enough for our 58 x 58 matrix\n",
    "plt.figure(figsize=(50, 50))\n",
    "sns.set({\"font.size\": 15})\n",
    "\n",
    "sns.heatmap(\n",
    "    enrichment_values,\n",
    "    xticklabels=labels,\n",
    "    yticklabels=labels,\n",
    "    vmin=0, vmax=3, center=1,\n",
    "    annot=False, fmt=\".1f\",\n",
    "    square=True,\n",
    "    cmap=\"RdBu\",\n",
    "    cbar=True,\n",
    "    cbar_kws={\"label\": \"Enrichment\", \"aspect\":100, \"shrink\": 0.863, \"pad\": 0.01}\n",
    ")\n",
    "\n",
    "plt.xlabel(\"Neighbour\")\n",
    "plt.ylabel(\"Reference\")\n"
   ]
  },
  {
   "cell_type": "markdown",
   "metadata": {},
   "source": [
    "## Plotting enrichment by tail saturation\n",
    "The above heatmap, which plots the enrichment of each species around every other species, contains too much information to be of much use.\n",
    "\n",
    "Here, we will instead calculate the enrichment of lipids based on how saturated their tails are.\n"
   ]
  },
  {
   "cell_type": "code",
   "execution_count": null,
   "metadata": {},
   "outputs": [],
   "source": [
    "lipids = np.asarray([column.strip(\"fe\") for column in enrichment.columns if column.startswith(\"fe\")])"
   ]
  },
  {
   "cell_type": "markdown",
   "metadata": {},
   "source": [
    "First we need to define the saturation of each lipid:"
   ]
  },
  {
   "cell_type": "code",
   "execution_count": null,
   "metadata": {},
   "outputs": [],
   "source": [
    "membrane = u.select_atoms(\"name GL1 GL2 AM1 AM2 ROH\")\n",
    "saturation = []\n",
    "\n",
    "# Determine the saturation of each individual lipid\n",
    "for lipid in np.unique(membrane.resnames):\n",
    "    \n",
    "    # select only the lipids of the current species\n",
    "    lipid_residues = membrane.residues.atoms.select_atoms(f\"resname {lipid}\").residues\n",
    "    \n",
    "    # now we will consider a single lipid of this species to determine its saturation\n",
    "    lipid_atoms = lipid_residues[0].atoms\n",
    "    \n",
    "    # It is a sterol if it has an ROH bead\n",
    "    if \"ROH\" in lipid_atoms.names:\n",
    "        saturation.append(\"Chol\")\n",
    "    \n",
    "    else:\n",
    "        \n",
    "        # count the number of D beads - these refer to double bonds in the acyl tails\n",
    "        num_doulbe = sum([True for name in lipid_atoms.names if name.startswith(\"D\")])\n",
    "        \n",
    "        # It is saturated if it has no D beads\n",
    "        if num_doulbe == 0:\n",
    "            saturation.append(\"S\")\n",
    "            \n",
    "        # It is monounsaturated if it has 1 D bead\n",
    "        elif num_doulbe == 1:\n",
    "            saturation.append(\"MU\")\n",
    "            \n",
    "        # It is polyunsaturated if it has 2+ D beads\n",
    "        else:\n",
    "            saturation.append(\"PU\")\n",
    "\n",
    "saturation = np.array(saturation)\n"
   ]
  },
  {
   "cell_type": "markdown",
   "metadata": {},
   "source": [
    "Now we will create a two-dimensional NumPy array, of shape ($N_{\\rm lipids}, N_{\\rm frames}$), where each lipid is labelled by its saturation.\n"
   ]
  },
  {
   "cell_type": "code",
   "execution_count": null,
   "metadata": {},
   "outputs": [],
   "source": [
    "count_by = np.full((membrane.n_residues, neighbours.n_frames), fill_value=\"\", dtype=\"<U4\")\n",
    "\n",
    "for lipid, sat in zip(np.unique(membrane.resnames), saturation):\n",
    "    \n",
    "    lipid_indices = membrane.residues.resnames == lipid\n",
    "    count_by[lipid_indices] = sat\n"
   ]
  },
  {
   "cell_type": "markdown",
   "metadata": {},
   "source": [
    "We can now pass this `count_by` array to `count_neighbours`"
   ]
  },
  {
   "cell_type": "code",
   "execution_count": null,
   "metadata": {},
   "outputs": [],
   "source": [
    "counts, enrichment = neighbours.count_neighbours(\n",
    "    count_by=count_by,\n",
    "    return_enrichment=True\n",
    ")"
   ]
  },
  {
   "cell_type": "markdown",
   "metadata": {},
   "source": [
    "Let's looks at the DataFrames:"
   ]
  },
  {
   "cell_type": "code",
   "execution_count": null,
   "metadata": {},
   "outputs": [],
   "source": [
    "counts.head()"
   ]
  },
  {
   "cell_type": "code",
   "execution_count": null,
   "metadata": {},
   "outputs": [],
   "source": [
    "enrichment.head()"
   ]
  },
  {
   "cell_type": "markdown",
   "metadata": {},
   "source": [
    "Now we can plot enrichment in terms of tail saturation"
   ]
  },
  {
   "cell_type": "code",
   "execution_count": null,
   "metadata": {},
   "outputs": [],
   "source": [
    "# Average the enricment values over time\n",
    "# Extract the enrichment value into a two-dimensional NumPy array\n",
    "enrichment_values = enrichment.groupby(\"Label\")[enrichment.columns[2:]].mean().values"
   ]
  },
  {
   "cell_type": "code",
   "execution_count": null,
   "metadata": {},
   "outputs": [],
   "source": [
    "# This is now a NumPy that contains the enrichment/depletion in terms of tail saturation\n",
    "enrichment_values"
   ]
  },
  {
   "cell_type": "code",
   "execution_count": null,
   "metadata": {},
   "outputs": [],
   "source": [
    "ticklabels = [\"Chol\", \"Sat\", \"Mono Unsat\", \"Poly Unsat\"]\n",
    "plt.figure(figsize=(8, 8))\n",
    "sns.set({\"font.size\": 15})\n",
    "\n",
    "sns.heatmap(\n",
    "    enrichment_values,\n",
    "    vmin=0.5, vmax=1.5, center=1,\n",
    "    annot=True, fmt=\".3f\",\n",
    "    square=True,\n",
    "    cmap=\"RdBu\",\n",
    "    cbar_kws={\"label\": \"Enrichment\", \"aspect\":40, \"shrink\": 0.84, \"pad\": 0.025}\n",
    ")\n",
    "\n",
    "plt.xlabel(\"Neighbour\")\n",
    "plt.ylabel(\"Reference\")\n",
    "\n",
    "plt.gca().set_xticklabels(ticklabels, rotation=45)\n",
    "plt.gca().set_yticklabels(ticklabels, rotation=45)\n",
    "\n",
    "plt.show()\n"
   ]
  },
  {
   "cell_type": "code",
   "execution_count": null,
   "metadata": {},
   "outputs": [],
   "source": []
  }
 ],
 "metadata": {
  "kernelspec": {
   "display_name": "Python [conda env:lpp]",
   "language": "python",
   "name": "conda-env-lpp-py"
  },
  "language_info": {
   "codemirror_mode": {
    "name": "ipython",
    "version": 3
   },
   "file_extension": ".py",
   "mimetype": "text/x-python",
   "name": "python",
   "nbconvert_exporter": "python",
   "pygments_lexer": "ipython3",
   "version": "3.8.6"
  },
  "widgets": {
   "application/vnd.jupyter.widget-state+json": {
    "state": {
     "0865d934177a44bc9938fae6ce2006cd": {
      "model_module": "@jupyter-widgets/base",
      "model_module_version": "1.2.0",
      "model_name": "LayoutModel",
      "state": {}
     },
     "1d505805c56f4161ba77b1c5bb089abd": {
      "model_module": "@jupyter-widgets/base",
      "model_module_version": "1.2.0",
      "model_name": "LayoutModel",
      "state": {}
     },
     "42373e5997d04052b26dd6700b37a56e": {
      "model_module": "@jupyter-widgets/base",
      "model_module_version": "1.2.0",
      "model_name": "LayoutModel",
      "state": {}
     },
     "447a9b6dc1a049ad9bb307fbb3da6809": {
      "model_module": "@jupyter-widgets/base",
      "model_module_version": "1.2.0",
      "model_name": "LayoutModel",
      "state": {}
     },
     "503bd03515ab421e89bcd005f7a0cc49": {
      "model_module": "@jupyter-widgets/controls",
      "model_module_version": "1.5.0",
      "model_name": "DescriptionStyleModel",
      "state": {
       "description_width": ""
      }
     },
     "7987d91389384492af34888ad65cdb7a": {
      "model_module": "@jupyter-widgets/controls",
      "model_module_version": "1.5.0",
      "model_name": "ProgressStyleModel",
      "state": {
       "description_width": ""
      }
     },
     "8af4ac9ed89d443194965886fa2c9f37": {
      "model_module": "@jupyter-widgets/controls",
      "model_module_version": "1.5.0",
      "model_name": "HTMLModel",
      "state": {
       "layout": "IPY_MODEL_42373e5997d04052b26dd6700b37a56e",
       "style": "IPY_MODEL_503bd03515ab421e89bcd005f7a0cc49",
       "value": " 67%"
      }
     },
     "9c727571d5b04838acf6e3bc6a2a0710": {
      "model_module": "@jupyter-widgets/controls",
      "model_module_version": "1.5.0",
      "model_name": "FloatProgressModel",
      "state": {
       "layout": "IPY_MODEL_447a9b6dc1a049ad9bb307fbb3da6809",
       "max": 51,
       "style": "IPY_MODEL_7987d91389384492af34888ad65cdb7a",
       "value": 34
      }
     },
     "eaae8c50cebf494e8d0adf4896ee2049": {
      "model_module": "@jupyter-widgets/controls",
      "model_module_version": "1.5.0",
      "model_name": "HBoxModel",
      "state": {
       "children": [
        "IPY_MODEL_8af4ac9ed89d443194965886fa2c9f37",
        "IPY_MODEL_9c727571d5b04838acf6e3bc6a2a0710",
        "IPY_MODEL_ef74d94812424814815b907bf67214dc"
       ],
       "layout": "IPY_MODEL_0865d934177a44bc9938fae6ce2006cd"
      }
     },
     "ef74d94812424814815b907bf67214dc": {
      "model_module": "@jupyter-widgets/controls",
      "model_module_version": "1.5.0",
      "model_name": "HTMLModel",
      "state": {
       "layout": "IPY_MODEL_1d505805c56f4161ba77b1c5bb089abd",
       "style": "IPY_MODEL_fef986ad0af541d8ab5c1365de6fb15b",
       "value": " 34/51 [00:19&lt;00:09,  1.84it/s]"
      }
     },
     "fef986ad0af541d8ab5c1365de6fb15b": {
      "model_module": "@jupyter-widgets/controls",
      "model_module_version": "1.5.0",
      "model_name": "DescriptionStyleModel",
      "state": {
       "description_width": ""
      }
     }
    },
    "version_major": 2,
    "version_minor": 0
   }
  }
 },
 "nbformat": 4,
 "nbformat_minor": 4
}
