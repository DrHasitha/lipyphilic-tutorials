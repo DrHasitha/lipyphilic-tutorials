{
 "cells": [
  {
   "cell_type": "markdown",
   "metadata": {},
   "source": [
    "# Find the largest clutser of lipids over time\n",
    "\n",
    "In lipid membranes, certain lipid species may preferentiall co-localise with one another. The class `lipyphilic.lib.neighbours.Neighbours` can be used to find the largest cluster of specific lipids over time.\n",
    "\n",
    "Below, we will look at the 58-component plasma memrbane studied by [Ingólfsson et al. (2017)](https://www.cell.com/biophysj/fulltext/S0006-3495(17)31132-3). We will calculate the size of the largest cluster of gangliosides over time.\n"
   ]
  },
  {
   "cell_type": "code",
   "execution_count": 1,
   "metadata": {},
   "outputs": [],
   "source": [
    "import pathlib\n",
    "\n",
    "import numpy as np\n",
    "import pandas as pd\n",
    "import matplotlib.pyplot as plt\n",
    "\n",
    "import MDAnalysis as mda\n",
    "from lipyphilic.lib.assign_leaflets import AssignLeaflets\n",
    "from lipyphilic.lib.neighbours import Neighbours\n"
   ]
  },
  {
   "cell_type": "markdown",
   "metadata": {},
   "source": [
    "## Load the topology and trajectory using MDAnalysis"
   ]
  },
  {
   "cell_type": "code",
   "execution_count": 2,
   "metadata": {},
   "outputs": [
    {
     "name": "stderr",
     "output_type": "stream",
     "text": [
      "/home/paul/git-repos/mdanalysis/package/MDAnalysis/topology/guessers.py:146: UserWarning: Failed to guess the mass for the following atom types: A\n",
      "  warnings.warn(\"Failed to guess the mass for the following atom types: {}\".format(atom_type))\n",
      "/home/paul/git-repos/mdanalysis/package/MDAnalysis/topology/guessers.py:146: UserWarning: Failed to guess the mass for the following atom types: D\n",
      "  warnings.warn(\"Failed to guess the mass for the following atom types: {}\".format(atom_type))\n",
      "/home/paul/git-repos/mdanalysis/package/MDAnalysis/topology/guessers.py:146: UserWarning: Failed to guess the mass for the following atom types: G\n",
      "  warnings.warn(\"Failed to guess the mass for the following atom types: {}\".format(atom_type))\n",
      "/home/paul/git-repos/mdanalysis/package/MDAnalysis/topology/guessers.py:146: UserWarning: Failed to guess the mass for the following atom types: R\n",
      "  warnings.warn(\"Failed to guess the mass for the following atom types: {}\".format(atom_type))\n",
      "/home/paul/git-repos/mdanalysis/package/MDAnalysis/topology/guessers.py:146: UserWarning: Failed to guess the mass for the following atom types: T\n",
      "  warnings.warn(\"Failed to guess the mass for the following atom types: {}\".format(atom_type))\n"
     ]
    }
   ],
   "source": [
    "u = mda.Universe(\"../datafiles/LIM25_neuronal_plasma_membrane.gro\")"
   ]
  },
  {
   "cell_type": "markdown",
   "metadata": {},
   "source": [
    "Let's first check that we know how to select all lipids in this complex membrane:"
   ]
  },
  {
   "cell_type": "code",
   "execution_count": 4,
   "metadata": {},
   "outputs": [],
   "source": [
    "membrane = u.select_atoms(\"name GL1 GL2 AM1 AM2 ROH\").residues"
   ]
  },
  {
   "cell_type": "code",
   "execution_count": 5,
   "metadata": {},
   "outputs": [
    {
     "name": "stdout",
     "output_type": "stream",
     "text": [
      "Number of lipids: 19447\n",
      "Number of lipid species: 58\n"
     ]
    }
   ],
   "source": [
    "# The above selects all lipids in our system:\n",
    "print(f\"Number of lipids: {membrane.n_residues}\")\n",
    "print(f\"Number of lipid species: {np.unique(membrane.resnames).size}\")"
   ]
  },
  {
   "cell_type": "markdown",
   "metadata": {},
   "source": [
    "## Generate a neighbour matrix\n",
    "\n",
    "Before we calculate the largest cluster of lipids, we must first use **lipyphilic** to construct an adjacency matrix, $A$, that describes whether each pair of lipid molecules are neighbouring one another or not. The neighbour matrix is defined as follows:\n",
    "\n",
    "- $A_{ij}=1$ if lipid $i$ is neighbouring lipid $j$\n",
    "- $A_{ij}=0$ otherwise\n",
    "\n",
    "**See the [notebook on local lipid environments](4-NeighbourCounts.ipynb) for more information.**\n"
   ]
  },
  {
   "cell_type": "markdown",
   "metadata": {},
   "source": [
    "To construct the neighbour matrix, we will use the class `lipyphilic.lib.neighbours.Neighbours`."
   ]
  },
  {
   "cell_type": "code",
   "execution_count": 6,
   "metadata": {},
   "outputs": [],
   "source": [
    "# lipid_sel cover all 58 species in the membrane\n",
    "neighbours = Neighbours(\n",
    "    universe=u,\n",
    "    lipid_sel=\"name GL1 GL2 AM1 AM2 ROH\",\n",
    "    cutoff=12.0\n",
    ")\n"
   ]
  },
  {
   "cell_type": "markdown",
   "metadata": {},
   "source": [
    "We then select which frames of the trajectory to analyse (`None` will use every frame) and select to display a progress bar (`verbose=True`):\n",
    "  "
   ]
  },
  {
   "cell_type": "code",
   "execution_count": 7,
   "metadata": {},
   "outputs": [
    {
     "data": {
      "application/vnd.jupyter.widget-view+json": {
       "model_id": "",
       "version_major": 2,
       "version_minor": 0
      },
      "text/plain": [
       "  0%|          | 0/1 [00:00<?, ?it/s]"
      ]
     },
     "metadata": {},
     "output_type": "display_data"
    },
    {
     "name": "stderr",
     "output_type": "stream",
     "text": [
      "/home/paul/git-repos/mdanalysis/package/MDAnalysis/coordinates/base.py:887: UserWarning: Reader has no dt information, set to 1.0 ps\n",
      "  warnings.warn(\"Reader has no dt information, set to 1.0 ps\")\n"
     ]
    },
    {
     "data": {
      "text/plain": [
       "<lipyphilic.lib.neighbours.Neighbours at 0x7fe016116340>"
      ]
     },
     "execution_count": 7,
     "metadata": {},
     "output_type": "execute_result"
    }
   ],
   "source": [
    "# Construct the neighbour matrix\n",
    "neighbours.run(\n",
    "    start=None,\n",
    "    stop=None,\n",
    "    step=None,\n",
    "    verbose=True\n",
    ")\n"
   ]
  },
  {
   "cell_type": "markdown",
   "metadata": {},
   "source": [
    "## Find the largest cluster of gangliosides"
   ]
  },
  {
   "cell_type": "markdown",
   "metadata": {},
   "source": [
    "To find the largest cluster of a set of lipid species, we can then use the `largest_cluster` method:"
   ]
  },
  {
   "cell_type": "code",
   "execution_count": 13,
   "metadata": {},
   "outputs": [
    {
     "data": {
      "application/vnd.jupyter.widget-view+json": {
       "model_id": "0269f85ffe074eaea785324676dc7863",
       "version_major": 2,
       "version_minor": 0
      },
      "text/plain": [
       "  0%|          | 0/1 [00:00<?, ?it/s]"
      ]
     },
     "metadata": {},
     "output_type": "display_data"
    }
   ],
   "source": [
    "largest_cluster = neighbours.largest_cluster(\n",
    "    cluster_sel=\"name GM*\"  # selects all gangliosides, which have GM beads in their headgroup\n",
    ")"
   ]
  },
  {
   "cell_type": "markdown",
   "metadata": {},
   "source": [
    "The results are returned in a NumPy array and contain the number of lipids in the largest cluster at each frame\n"
   ]
  },
  {
   "cell_type": "code",
   "execution_count": 15,
   "metadata": {},
   "outputs": [
    {
     "data": {
      "text/plain": [
       "1"
      ]
     },
     "execution_count": 15,
     "metadata": {},
     "output_type": "execute_result"
    }
   ],
   "source": [
    "# we only have a single frame in this trajectory\n",
    "largest_cluster.size"
   ]
  },
  {
   "cell_type": "markdown",
   "metadata": {},
   "source": [
    "At this frame, there are 23 gangliosides in the largest cluster:"
   ]
  },
  {
   "cell_type": "code",
   "execution_count": 16,
   "metadata": {},
   "outputs": [
    {
     "data": {
      "text/plain": [
       "array([23])"
      ]
     },
     "execution_count": 16,
     "metadata": {},
     "output_type": "execute_result"
    }
   ],
   "source": [
    "largest_cluster"
   ]
  },
  {
   "cell_type": "markdown",
   "metadata": {},
   "source": [
    "# Determine the residue indices of lipids in the largest cluster\n",
    "\n",
    "If we want to know not just the cluster size but also which lipids are in the largest cluster at each frame, we can set the `return_indices` keyword to `True`:"
   ]
  },
  {
   "cell_type": "code",
   "execution_count": 25,
   "metadata": {},
   "outputs": [
    {
     "data": {
      "application/vnd.jupyter.widget-view+json": {
       "model_id": "394b4093938d45c3845b56a9eec41d64",
       "version_major": 2,
       "version_minor": 0
      },
      "text/plain": [
       "  0%|          | 0/1 [00:00<?, ?it/s]"
      ]
     },
     "metadata": {},
     "output_type": "display_data"
    }
   ],
   "source": [
    "largest_cluster, largest_cluster_indices = neighbours.largest_cluster(\n",
    "    cluster_sel=\"name GM*\",\n",
    "    return_indices=True\n",
    ")"
   ]
  },
  {
   "cell_type": "markdown",
   "metadata": {},
   "source": [
    "The residue indices are returned as list of NumPy array, one per frame of the analysis. Each array contains the residue indices of the lipids in the largest cluster at that frame.\n",
    "\n",
    "Let's look at indices of lipids in this cluster:\n"
   ]
  },
  {
   "cell_type": "code",
   "execution_count": 26,
   "metadata": {},
   "outputs": [],
   "source": [
    "first_frame_indices = largest_cluster_indices[0]"
   ]
  },
  {
   "cell_type": "code",
   "execution_count": 28,
   "metadata": {},
   "outputs": [
    {
     "data": {
      "text/plain": [
       "23"
      ]
     },
     "execution_count": 28,
     "metadata": {},
     "output_type": "execute_result"
    }
   ],
   "source": [
    "# As expected, there are 23 indices (lipids)\n",
    "first_frame_indices.size"
   ]
  },
  {
   "cell_type": "markdown",
   "metadata": {},
   "source": [
    "Select the lipids in the largest cluster:"
   ]
  },
  {
   "cell_type": "code",
   "execution_count": 29,
   "metadata": {},
   "outputs": [],
   "source": [
    "largest_cluster_lipids = u.residues[first_frame_indices]"
   ]
  },
  {
   "cell_type": "code",
   "execution_count": 34,
   "metadata": {},
   "outputs": [
    {
     "name": "stdout",
     "output_type": "stream",
     "text": [
      "['DPG1' 'DPG1' 'DPG1' 'DPG1' 'DPG1' 'DPG1' 'DPG1' 'DPG1' 'DPG3' 'DPG3'\n",
      " 'DPG3' 'DPG3' 'DPG3' 'DPG3' 'DPG3' 'PNG1' 'PNG1' 'DBG1' 'DBG1' 'DBG1'\n",
      " 'DBG3' 'DBG3' 'DBG3']\n"
     ]
    }
   ],
   "source": [
    "# Check the species involved in the largest cluster\n",
    "print(largest_cluster_lipids.resnames)"
   ]
  },
  {
   "cell_type": "markdown",
   "metadata": {},
   "source": [
    "# Find the largest cluster in a given leaflet\n",
    "\n",
    "The previous examples will compute the largest cluster formed by gangliosides at each frame. Depending on the species selected, the largest cluster may span both leaflets of the bilayer.\n",
    "\n",
    "In order to find the largest cluster at each frame within a given leaflet, we can tell `largest_cluster` to consider only lipids in the upper leaflet by using the `filter_by` parameter."
   ]
  },
  {
   "cell_type": "markdown",
   "metadata": {},
   "source": [
    "First, though, we need to know which leaflet each lipid is in at each frame. This may be done using `lipyphilic.lib.assign_leaflets.AssignLeaflets`."
   ]
  },
  {
   "cell_type": "code",
   "execution_count": 36,
   "metadata": {},
   "outputs": [],
   "source": [
    "leaflets = AssignLeaflets(\n",
    "    universe=u,\n",
    "    lipid_sel=\"name GL1 GL2 AM1 AM2 ROH\",  # select all lipids in the membrane\n",
    "    n_bins=8  # split the membrane into an 8 by 8 grid, calculate local midpoints for each grid point, and assing leaflets based on local heights\n",
    ")"
   ]
  },
  {
   "cell_type": "code",
   "execution_count": 37,
   "metadata": {},
   "outputs": [
    {
     "data": {
      "application/vnd.jupyter.widget-view+json": {
       "model_id": "c65f6e8c2a9e4733b25e9cceeae1b3ee",
       "version_major": 2,
       "version_minor": 0
      },
      "text/plain": [
       "  0%|          | 0/1 [00:00<?, ?it/s]"
      ]
     },
     "metadata": {},
     "output_type": "display_data"
    },
    {
     "name": "stderr",
     "output_type": "stream",
     "text": [
      "/home/paul/git-repos/mdanalysis/package/MDAnalysis/coordinates/base.py:887: UserWarning: Reader has no dt information, set to 1.0 ps\n",
      "  warnings.warn(\"Reader has no dt information, set to 1.0 ps\")\n"
     ]
    },
    {
     "data": {
      "text/plain": [
       "<lipyphilic.lib.assign_leaflets.AssignLeaflets at 0x7fe019052f70>"
      ]
     },
     "execution_count": 37,
     "metadata": {},
     "output_type": "execute_result"
    }
   ],
   "source": [
    "# run the analysis on the same frames as Neighbours.run()\n",
    "leaflets.run(\n",
    "    start=None,\n",
    "    stop=None,\n",
    "    step=None,\n",
    "    verbose=True\n",
    ")\n"
   ]
  },
  {
   "cell_type": "markdown",
   "metadata": {},
   "source": [
    "The leaflets data are stored in the :attr:`leaflets.leaflets` attribute, will be equal to '1' if the lipid is in the upper leaflet at a given frame and equal to '-1' if it is in the lower leaflet.\n",
    " \n",
    "**See the [notebook on local lipid environments](4-NeighbourCounts.ipynb) for more information.**\n",
    "  "
   ]
  },
  {
   "cell_type": "markdown",
   "metadata": {},
   "source": [
    "We can now find the largest cluster over time in the upper leaflet.\n",
    "\n",
    "The `filter_by` keyword of `largest_cluster` takes as input a two-dimensional NumPy array of shape ($N_{\\rm lipids}, N_{\\rm frames}$). The array should be a [boolean mask](https://docs.scipy.org/doc/numpy-1.15.0/user/basics.indexing.html#boolean-or-mask-index-arrays), where `True` indicates that we should include this lipid in the neighbour calculation:"
   ]
  },
  {
   "cell_type": "code",
   "execution_count": 49,
   "metadata": {},
   "outputs": [],
   "source": [
    "# Create a boolean mask\n",
    "upper_leaflet_mask = leaflets.leaflets == 1"
   ]
  },
  {
   "cell_type": "code",
   "execution_count": 50,
   "metadata": {},
   "outputs": [
    {
     "data": {
      "application/vnd.jupyter.widget-view+json": {
       "model_id": "adeab2c2fb1d4041bca1796a13f1298c",
       "version_major": 2,
       "version_minor": 0
      },
      "text/plain": [
       "  0%|          | 0/1 [00:00<?, ?it/s]"
      ]
     },
     "metadata": {},
     "output_type": "display_data"
    }
   ],
   "source": [
    "# find the largest cluster over time\n",
    "largest_cluster_upper_leaflet = neighbours.largest_cluster(\n",
    "    cluster_sel=\"name GM*\",\n",
    "    filter_by=upper_leaflet_mask\n",
    ")\n"
   ]
  },
  {
   "cell_type": "code",
   "execution_count": 52,
   "metadata": {},
   "outputs": [
    {
     "data": {
      "text/plain": [
       "array([23])"
      ]
     },
     "execution_count": 52,
     "metadata": {},
     "output_type": "execute_result"
    }
   ],
   "source": [
    "largest_cluster_upper_leaflet"
   ]
  },
  {
   "cell_type": "markdown",
   "metadata": {},
   "source": [
    "Now, lipids either in the lower leaflet (-1) or the midplane (0) will not be included when determining\n",
    "the largest cluster.\n",
    "\n",
    "In this membrane, all gangliosides are in the upper leaflet, so it is expected that the largest cluster size would be unchanged,\n"
   ]
  },
  {
   "cell_type": "code",
   "execution_count": null,
   "metadata": {},
   "outputs": [],
   "source": []
  }
 ],
 "metadata": {
  "kernelspec": {
   "display_name": "Python [conda env:lpp]",
   "language": "python",
   "name": "conda-env-lpp-py"
  },
  "language_info": {
   "codemirror_mode": {
    "name": "ipython",
    "version": 3
   },
   "file_extension": ".py",
   "mimetype": "text/x-python",
   "name": "python",
   "nbconvert_exporter": "python",
   "pygments_lexer": "ipython3",
   "version": "3.8.6"
  },
  "widgets": {
   "application/vnd.jupyter.widget-state+json": {
    "state": {
     "0269f85ffe074eaea785324676dc7863": {
      "model_module": "@jupyter-widgets/controls",
      "model_module_version": "1.5.0",
      "model_name": "HBoxModel",
      "state": {
       "children": [
        "IPY_MODEL_cfb53198aecc4b839364781139abd160",
        "IPY_MODEL_c31f813dbb2149cf942bf5f974338cab",
        "IPY_MODEL_f46de6fd0c824586b478f78f69858ee7"
       ],
       "layout": "IPY_MODEL_c39bccc1b44547769e88bc800dc122d0"
      }
     },
     "03fccb9b64684a4888612a48f95d59e9": {
      "model_module": "@jupyter-widgets/base",
      "model_module_version": "1.2.0",
      "model_name": "LayoutModel",
      "state": {}
     },
     "060129597a5241cbae52943208bd711f": {
      "model_module": "@jupyter-widgets/base",
      "model_module_version": "1.2.0",
      "model_name": "LayoutModel",
      "state": {}
     },
     "06860097765548998265785703fb73cc": {
      "model_module": "@jupyter-widgets/controls",
      "model_module_version": "1.5.0",
      "model_name": "HTMLModel",
      "state": {
       "layout": "IPY_MODEL_3eda0806a94d42cb82f4bd0b5c5b365e",
       "style": "IPY_MODEL_2838fd9698524452a489525290eb6339",
       "value": " 0/1 [00:00&lt;?, ?it/s]"
      }
     },
     "091d5b9623014aa896c81b27b38ab358": {
      "model_module": "@jupyter-widgets/controls",
      "model_module_version": "1.5.0",
      "model_name": "DescriptionStyleModel",
      "state": {
       "description_width": ""
      }
     },
     "09ddfe35058440cca5f6462a1bb467e6": {
      "model_module": "@jupyter-widgets/base",
      "model_module_version": "1.2.0",
      "model_name": "LayoutModel",
      "state": {}
     },
     "0b1178b9bfc842ec922f42bf5f51d4f9": {
      "model_module": "@jupyter-widgets/base",
      "model_module_version": "1.2.0",
      "model_name": "LayoutModel",
      "state": {}
     },
     "0e44c383d77f4edcbe61cc77cde661e0": {
      "model_module": "@jupyter-widgets/controls",
      "model_module_version": "1.5.0",
      "model_name": "ProgressStyleModel",
      "state": {
       "description_width": ""
      }
     },
     "0fcb205f5c0749b198053566776820e9": {
      "model_module": "@jupyter-widgets/controls",
      "model_module_version": "1.5.0",
      "model_name": "FloatProgressModel",
      "state": {
       "bar_style": "danger",
       "layout": "IPY_MODEL_6e14313aae944807acdc3a4f1b8b751e",
       "max": 1,
       "style": "IPY_MODEL_f3acd9203df041adb5bffbd947122eb2"
      }
     },
     "153ec5dc699d4cc9a018a41d40a6f8ed": {
      "model_module": "@jupyter-widgets/controls",
      "model_module_version": "1.5.0",
      "model_name": "HTMLModel",
      "state": {
       "layout": "IPY_MODEL_ee8b090f722f4724ba78f6ec1268eca9",
       "style": "IPY_MODEL_4f11eac0bb5d42a488d48c8d20b4215b",
       "value": " 1/1 [00:00&lt;00:00, 24.76it/s]"
      }
     },
     "16d74aeab73c4f85b49dc241518fd89f": {
      "model_module": "@jupyter-widgets/controls",
      "model_module_version": "1.5.0",
      "model_name": "ProgressStyleModel",
      "state": {
       "description_width": ""
      }
     },
     "172af4a8020d4610944952fc5fe0173f": {
      "model_module": "@jupyter-widgets/controls",
      "model_module_version": "1.5.0",
      "model_name": "HTMLModel",
      "state": {
       "layout": "IPY_MODEL_09ddfe35058440cca5f6462a1bb467e6",
       "style": "IPY_MODEL_2387f3f3b1d5463bb196e3c467538d13",
       "value": "100%"
      }
     },
     "18336c42d112429f9d5574bcb764618d": {
      "model_module": "@jupyter-widgets/base",
      "model_module_version": "1.2.0",
      "model_name": "LayoutModel",
      "state": {}
     },
     "19ac8600e1144880b3e71279fe6a3d55": {
      "model_module": "@jupyter-widgets/base",
      "model_module_version": "1.2.0",
      "model_name": "LayoutModel",
      "state": {}
     },
     "1dc6c4374d0546af91fbf8d7af99b773": {
      "model_module": "@jupyter-widgets/controls",
      "model_module_version": "1.5.0",
      "model_name": "HTMLModel",
      "state": {
       "layout": "IPY_MODEL_e06c698d298949e8902423a2ca280b67",
       "style": "IPY_MODEL_5d2ea5b8ab47488bb16ddd8ddcca797a",
       "value": "100%"
      }
     },
     "1f8eb74dcd374366ab172690cfde62b9": {
      "model_module": "@jupyter-widgets/controls",
      "model_module_version": "1.5.0",
      "model_name": "DescriptionStyleModel",
      "state": {
       "description_width": ""
      }
     },
     "2332fd1ef8da49d88f1bf866a206ad1f": {
      "model_module": "@jupyter-widgets/controls",
      "model_module_version": "1.5.0",
      "model_name": "HTMLModel",
      "state": {
       "layout": "IPY_MODEL_35d8ab75c4aa4303a934601ac14aaaa5",
       "style": "IPY_MODEL_294097605b8f40b4b84eab889c3176c5",
       "value": "  0%"
      }
     },
     "2341009bd3a74983ba10a695b85fdb7a": {
      "model_module": "@jupyter-widgets/controls",
      "model_module_version": "1.5.0",
      "model_name": "HTMLModel",
      "state": {
       "layout": "IPY_MODEL_a99f345d35c848c6a8b7a84446249cbe",
       "style": "IPY_MODEL_98fc6123ee3749cbafd5ce8f73885d86",
       "value": "100%"
      }
     },
     "2387f3f3b1d5463bb196e3c467538d13": {
      "model_module": "@jupyter-widgets/controls",
      "model_module_version": "1.5.0",
      "model_name": "DescriptionStyleModel",
      "state": {
       "description_width": ""
      }
     },
     "26976bbadaf74656914aad831e7245dc": {
      "model_module": "@jupyter-widgets/controls",
      "model_module_version": "1.5.0",
      "model_name": "HBoxModel",
      "state": {
       "children": [
        "IPY_MODEL_2332fd1ef8da49d88f1bf866a206ad1f",
        "IPY_MODEL_0fcb205f5c0749b198053566776820e9",
        "IPY_MODEL_06860097765548998265785703fb73cc"
       ],
       "layout": "IPY_MODEL_dd7d9db715124e9a936fb7072b8952ee"
      }
     },
     "2838fd9698524452a489525290eb6339": {
      "model_module": "@jupyter-widgets/controls",
      "model_module_version": "1.5.0",
      "model_name": "DescriptionStyleModel",
      "state": {
       "description_width": ""
      }
     },
     "294097605b8f40b4b84eab889c3176c5": {
      "model_module": "@jupyter-widgets/controls",
      "model_module_version": "1.5.0",
      "model_name": "DescriptionStyleModel",
      "state": {
       "description_width": ""
      }
     },
     "2db1f6b50979444da68346ecc4a5fb02": {
      "model_module": "@jupyter-widgets/controls",
      "model_module_version": "1.5.0",
      "model_name": "HTMLModel",
      "state": {
       "layout": "IPY_MODEL_19ac8600e1144880b3e71279fe6a3d55",
       "style": "IPY_MODEL_89ec393d00a74a1ea7fbaf200b176d19",
       "value": " 1/1 [00:00&lt;00:00, 30.39it/s]"
      }
     },
     "2e07e55e86f44592893ea24f05025e1c": {
      "model_module": "@jupyter-widgets/base",
      "model_module_version": "1.2.0",
      "model_name": "LayoutModel",
      "state": {}
     },
     "31f8faa31227432bb24affa0d7b56bfd": {
      "model_module": "@jupyter-widgets/controls",
      "model_module_version": "1.5.0",
      "model_name": "FloatProgressModel",
      "state": {
       "bar_style": "success",
       "layout": "IPY_MODEL_74429912541a490db35001fa17c6fed9",
       "max": 1,
       "style": "IPY_MODEL_f579acd793ef4f53a1363c357bcd6210",
       "value": 1
      }
     },
     "35d8ab75c4aa4303a934601ac14aaaa5": {
      "model_module": "@jupyter-widgets/base",
      "model_module_version": "1.2.0",
      "model_name": "LayoutModel",
      "state": {}
     },
     "394b4093938d45c3845b56a9eec41d64": {
      "model_module": "@jupyter-widgets/controls",
      "model_module_version": "1.5.0",
      "model_name": "HBoxModel",
      "state": {
       "children": [
        "IPY_MODEL_c317c05090554d5d947a0e35ccb99f2a",
        "IPY_MODEL_77793a77b8ae41a0866af5231194c7c2",
        "IPY_MODEL_4ab476678b194896b1b5f8c6131266b0"
       ],
       "layout": "IPY_MODEL_2e07e55e86f44592893ea24f05025e1c"
      }
     },
     "39f328f43e5747eabecb9d282fa66156": {
      "model_module": "@jupyter-widgets/controls",
      "model_module_version": "1.5.0",
      "model_name": "FloatProgressModel",
      "state": {
       "bar_style": "success",
       "layout": "IPY_MODEL_a97948729c7140dbbc7483b804478179",
       "max": 1,
       "style": "IPY_MODEL_e7381a550cd7407faee400843d63a5bf",
       "value": 1
      }
     },
     "3e470661f6cf4923aeaf5d74c920fb0c": {
      "model_module": "@jupyter-widgets/base",
      "model_module_version": "1.2.0",
      "model_name": "LayoutModel",
      "state": {}
     },
     "3eda0806a94d42cb82f4bd0b5c5b365e": {
      "model_module": "@jupyter-widgets/base",
      "model_module_version": "1.2.0",
      "model_name": "LayoutModel",
      "state": {}
     },
     "3f6a1dbca6c84ae181699ee504e46c2c": {
      "model_module": "@jupyter-widgets/controls",
      "model_module_version": "1.5.0",
      "model_name": "DescriptionStyleModel",
      "state": {
       "description_width": ""
      }
     },
     "42dd7e99e94d484584c166d1deeb2002": {
      "model_module": "@jupyter-widgets/controls",
      "model_module_version": "1.5.0",
      "model_name": "ProgressStyleModel",
      "state": {
       "description_width": ""
      }
     },
     "4526f62e2f3a4545a808a63ee03b2261": {
      "model_module": "@jupyter-widgets/controls",
      "model_module_version": "1.5.0",
      "model_name": "FloatProgressModel",
      "state": {
       "bar_style": "success",
       "layout": "IPY_MODEL_beda4082bb1a4c82956328df9e3da9e8",
       "max": 1,
       "style": "IPY_MODEL_42dd7e99e94d484584c166d1deeb2002",
       "value": 1
      }
     },
     "4561986552e44d9285c2edd22cbca70a": {
      "model_module": "@jupyter-widgets/base",
      "model_module_version": "1.2.0",
      "model_name": "LayoutModel",
      "state": {}
     },
     "47677779754f434a808467bdc1f884cd": {
      "model_module": "@jupyter-widgets/controls",
      "model_module_version": "1.5.0",
      "model_name": "HBoxModel",
      "state": {
       "children": [
        "IPY_MODEL_b85ef0dac64a47698c236ffe3daba66c",
        "IPY_MODEL_39f328f43e5747eabecb9d282fa66156",
        "IPY_MODEL_c88a9cb84b1549c6b1e658220e58bbd6"
       ],
       "layout": "IPY_MODEL_74dfe9da376345d69e1fa14587472567"
      }
     },
     "4ab476678b194896b1b5f8c6131266b0": {
      "model_module": "@jupyter-widgets/controls",
      "model_module_version": "1.5.0",
      "model_name": "HTMLModel",
      "state": {
       "layout": "IPY_MODEL_9916bb34ecf8436bb26de46e52619895",
       "style": "IPY_MODEL_9146e786110a484a8021dc9d19fe5412",
       "value": " 1/1 [00:00&lt;00:00, 37.35it/s]"
      }
     },
     "4f11eac0bb5d42a488d48c8d20b4215b": {
      "model_module": "@jupyter-widgets/controls",
      "model_module_version": "1.5.0",
      "model_name": "DescriptionStyleModel",
      "state": {
       "description_width": ""
      }
     },
     "5b1552271bae4724bc5ceaba78c605e7": {
      "model_module": "@jupyter-widgets/controls",
      "model_module_version": "1.5.0",
      "model_name": "HTMLModel",
      "state": {
       "layout": "IPY_MODEL_d467a53b58c8482c9e331332b3d7921c",
       "style": "IPY_MODEL_b972cf5c3e034b76b4f69ffe5fdde022",
       "value": " 1/1 [00:01&lt;00:00,  1.05s/it]"
      }
     },
     "5d2ea5b8ab47488bb16ddd8ddcca797a": {
      "model_module": "@jupyter-widgets/controls",
      "model_module_version": "1.5.0",
      "model_name": "DescriptionStyleModel",
      "state": {
       "description_width": ""
      }
     },
     "5e484b12be6448c4ad2b2c3a7374f72c": {
      "model_module": "@jupyter-widgets/controls",
      "model_module_version": "1.5.0",
      "model_name": "DescriptionStyleModel",
      "state": {
       "description_width": ""
      }
     },
     "6382400f058d48f1aec602ae1497ac42": {
      "model_module": "@jupyter-widgets/controls",
      "model_module_version": "1.5.0",
      "model_name": "DescriptionStyleModel",
      "state": {
       "description_width": ""
      }
     },
     "6e14313aae944807acdc3a4f1b8b751e": {
      "model_module": "@jupyter-widgets/base",
      "model_module_version": "1.2.0",
      "model_name": "LayoutModel",
      "state": {}
     },
     "70337aa484674c51a44d793a9e2d35fa": {
      "model_module": "@jupyter-widgets/base",
      "model_module_version": "1.2.0",
      "model_name": "LayoutModel",
      "state": {}
     },
     "718ae10771fa4a18b5f268ac8a8ebf9f": {
      "model_module": "@jupyter-widgets/controls",
      "model_module_version": "1.5.0",
      "model_name": "HTMLModel",
      "state": {
       "layout": "IPY_MODEL_18336c42d112429f9d5574bcb764618d",
       "style": "IPY_MODEL_93096c747c5f4ac29025f5959ed5a5be",
       "value": "100%"
      }
     },
     "74429912541a490db35001fa17c6fed9": {
      "model_module": "@jupyter-widgets/base",
      "model_module_version": "1.2.0",
      "model_name": "LayoutModel",
      "state": {}
     },
     "74dfe9da376345d69e1fa14587472567": {
      "model_module": "@jupyter-widgets/base",
      "model_module_version": "1.2.0",
      "model_name": "LayoutModel",
      "state": {}
     },
     "75230a9aa8814f218979a1b9d6f11287": {
      "model_module": "@jupyter-widgets/controls",
      "model_module_version": "1.5.0",
      "model_name": "ProgressStyleModel",
      "state": {
       "description_width": ""
      }
     },
     "77793a77b8ae41a0866af5231194c7c2": {
      "model_module": "@jupyter-widgets/controls",
      "model_module_version": "1.5.0",
      "model_name": "FloatProgressModel",
      "state": {
       "bar_style": "success",
       "layout": "IPY_MODEL_ddbfaaee1bc0498282bc19c95e8ed787",
       "max": 1,
       "style": "IPY_MODEL_0e44c383d77f4edcbe61cc77cde661e0",
       "value": 1
      }
     },
     "7e9847cd85dc4b58b6d97088aa551b07": {
      "model_module": "@jupyter-widgets/base",
      "model_module_version": "1.2.0",
      "model_name": "LayoutModel",
      "state": {}
     },
     "7eb91dc609bc43e7b0484853e10e9651": {
      "model_module": "@jupyter-widgets/controls",
      "model_module_version": "1.5.0",
      "model_name": "HTMLModel",
      "state": {
       "layout": "IPY_MODEL_060129597a5241cbae52943208bd711f",
       "style": "IPY_MODEL_6382400f058d48f1aec602ae1497ac42",
       "value": " 1/1 [00:00&lt;00:00, 38.09it/s]"
      }
     },
     "811470ea439444b69f23caeebae68371": {
      "model_module": "@jupyter-widgets/controls",
      "model_module_version": "1.5.0",
      "model_name": "HTMLModel",
      "state": {
       "layout": "IPY_MODEL_7e9847cd85dc4b58b6d97088aa551b07",
       "style": "IPY_MODEL_5e484b12be6448c4ad2b2c3a7374f72c",
       "value": " 1/1 [00:00&lt;00:00, 37.37it/s]"
      }
     },
     "8483337a3c664f159c28bf84ec0f1ac2": {
      "model_module": "@jupyter-widgets/base",
      "model_module_version": "1.2.0",
      "model_name": "LayoutModel",
      "state": {}
     },
     "89ec393d00a74a1ea7fbaf200b176d19": {
      "model_module": "@jupyter-widgets/controls",
      "model_module_version": "1.5.0",
      "model_name": "DescriptionStyleModel",
      "state": {
       "description_width": ""
      }
     },
     "8baf89cb003e46db851f6f8b02ce06b6": {
      "model_module": "@jupyter-widgets/base",
      "model_module_version": "1.2.0",
      "model_name": "LayoutModel",
      "state": {}
     },
     "9146e786110a484a8021dc9d19fe5412": {
      "model_module": "@jupyter-widgets/controls",
      "model_module_version": "1.5.0",
      "model_name": "DescriptionStyleModel",
      "state": {
       "description_width": ""
      }
     },
     "93096c747c5f4ac29025f5959ed5a5be": {
      "model_module": "@jupyter-widgets/controls",
      "model_module_version": "1.5.0",
      "model_name": "DescriptionStyleModel",
      "state": {
       "description_width": ""
      }
     },
     "9329c482ee864e14aff8caae7f47b3ca": {
      "model_module": "@jupyter-widgets/base",
      "model_module_version": "1.2.0",
      "model_name": "LayoutModel",
      "state": {}
     },
     "98fc6123ee3749cbafd5ce8f73885d86": {
      "model_module": "@jupyter-widgets/controls",
      "model_module_version": "1.5.0",
      "model_name": "DescriptionStyleModel",
      "state": {
       "description_width": ""
      }
     },
     "9916bb34ecf8436bb26de46e52619895": {
      "model_module": "@jupyter-widgets/base",
      "model_module_version": "1.2.0",
      "model_name": "LayoutModel",
      "state": {}
     },
     "9c502445a27a42cfae75f65f736fadc8": {
      "model_module": "@jupyter-widgets/controls",
      "model_module_version": "1.5.0",
      "model_name": "DescriptionStyleModel",
      "state": {
       "description_width": ""
      }
     },
     "9e103421a2494abbbf425da1d28bd353": {
      "model_module": "@jupyter-widgets/base",
      "model_module_version": "1.2.0",
      "model_name": "LayoutModel",
      "state": {}
     },
     "a0dd3d39f7b74bb4a5ebbdccf23d339b": {
      "model_module": "@jupyter-widgets/base",
      "model_module_version": "1.2.0",
      "model_name": "LayoutModel",
      "state": {}
     },
     "a0decb93581c462e95d2658e4f0137d6": {
      "model_module": "@jupyter-widgets/controls",
      "model_module_version": "1.5.0",
      "model_name": "ProgressStyleModel",
      "state": {
       "description_width": ""
      }
     },
     "a4bbf6a7aa884edeb1647ca52ca11b16": {
      "model_module": "@jupyter-widgets/controls",
      "model_module_version": "1.5.0",
      "model_name": "FloatProgressModel",
      "state": {
       "bar_style": "success",
       "layout": "IPY_MODEL_9329c482ee864e14aff8caae7f47b3ca",
       "max": 1,
       "style": "IPY_MODEL_16d74aeab73c4f85b49dc241518fd89f",
       "value": 1
      }
     },
     "a5f958d60efc44588952bb2c2a1be0f4": {
      "model_module": "@jupyter-widgets/controls",
      "model_module_version": "1.5.0",
      "model_name": "HTMLModel",
      "state": {
       "layout": "IPY_MODEL_70337aa484674c51a44d793a9e2d35fa",
       "style": "IPY_MODEL_fcc1801d55664407addcc16d171df8c0",
       "value": "100%"
      }
     },
     "a97948729c7140dbbc7483b804478179": {
      "model_module": "@jupyter-widgets/base",
      "model_module_version": "1.2.0",
      "model_name": "LayoutModel",
      "state": {}
     },
     "a99f345d35c848c6a8b7a84446249cbe": {
      "model_module": "@jupyter-widgets/base",
      "model_module_version": "1.2.0",
      "model_name": "LayoutModel",
      "state": {}
     },
     "adeab2c2fb1d4041bca1796a13f1298c": {
      "model_module": "@jupyter-widgets/controls",
      "model_module_version": "1.5.0",
      "model_name": "HBoxModel",
      "state": {
       "children": [
        "IPY_MODEL_718ae10771fa4a18b5f268ac8a8ebf9f",
        "IPY_MODEL_d8b21466f44f404fbcad0020fe8f77c5",
        "IPY_MODEL_2db1f6b50979444da68346ecc4a5fb02"
       ],
       "layout": "IPY_MODEL_e5525ee682bb4acfa0c0b4da4e247908"
      }
     },
     "b75878a41da74ed49d3650bbe60b6329": {
      "model_module": "@jupyter-widgets/controls",
      "model_module_version": "1.5.0",
      "model_name": "FloatProgressModel",
      "state": {
       "bar_style": "success",
       "layout": "IPY_MODEL_df72d0cb42ca4f86ab1b29c0a5180d8b",
       "max": 1,
       "style": "IPY_MODEL_df86c6fb42664b90a9952f3c22483791",
       "value": 1
      }
     },
     "b77c7ae8972146aa825a7db8fd8c0623": {
      "model_module": "@jupyter-widgets/controls",
      "model_module_version": "1.5.0",
      "model_name": "HBoxModel",
      "state": {
       "children": [
        "IPY_MODEL_1dc6c4374d0546af91fbf8d7af99b773",
        "IPY_MODEL_31f8faa31227432bb24affa0d7b56bfd",
        "IPY_MODEL_cc54f85f0939412fbcd9770d0dad81a8"
       ],
       "layout": "IPY_MODEL_8baf89cb003e46db851f6f8b02ce06b6"
      }
     },
     "b85ef0dac64a47698c236ffe3daba66c": {
      "model_module": "@jupyter-widgets/controls",
      "model_module_version": "1.5.0",
      "model_name": "HTMLModel",
      "state": {
       "layout": "IPY_MODEL_9e103421a2494abbbf425da1d28bd353",
       "style": "IPY_MODEL_e1f539b0ad8842338f0de55d9f2a2d81",
       "value": "100%"
      }
     },
     "b972cf5c3e034b76b4f69ffe5fdde022": {
      "model_module": "@jupyter-widgets/controls",
      "model_module_version": "1.5.0",
      "model_name": "DescriptionStyleModel",
      "state": {
       "description_width": ""
      }
     },
     "bcaa8168be2543a0937ad5eaa64ff6f2": {
      "model_module": "@jupyter-widgets/controls",
      "model_module_version": "1.5.0",
      "model_name": "DescriptionStyleModel",
      "state": {
       "description_width": ""
      }
     },
     "bd6bb6c572ba409d8c4722adfe226676": {
      "model_module": "@jupyter-widgets/base",
      "model_module_version": "1.2.0",
      "model_name": "LayoutModel",
      "state": {}
     },
     "bdeafc07a8f8404990c71e051bc49a45": {
      "model_module": "@jupyter-widgets/base",
      "model_module_version": "1.2.0",
      "model_name": "LayoutModel",
      "state": {}
     },
     "beda4082bb1a4c82956328df9e3da9e8": {
      "model_module": "@jupyter-widgets/base",
      "model_module_version": "1.2.0",
      "model_name": "LayoutModel",
      "state": {}
     },
     "c070c1e087f24aec8fc85d9175ddf6a3": {
      "model_module": "@jupyter-widgets/base",
      "model_module_version": "1.2.0",
      "model_name": "LayoutModel",
      "state": {}
     },
     "c317c05090554d5d947a0e35ccb99f2a": {
      "model_module": "@jupyter-widgets/controls",
      "model_module_version": "1.5.0",
      "model_name": "HTMLModel",
      "state": {
       "layout": "IPY_MODEL_4561986552e44d9285c2edd22cbca70a",
       "style": "IPY_MODEL_bcaa8168be2543a0937ad5eaa64ff6f2",
       "value": "100%"
      }
     },
     "c31f813dbb2149cf942bf5f974338cab": {
      "model_module": "@jupyter-widgets/controls",
      "model_module_version": "1.5.0",
      "model_name": "FloatProgressModel",
      "state": {
       "bar_style": "success",
       "layout": "IPY_MODEL_bd6bb6c572ba409d8c4722adfe226676",
       "max": 1,
       "style": "IPY_MODEL_e7be07dc55a94d0ea7df0e08902f7fb6",
       "value": 1
      }
     },
     "c39bccc1b44547769e88bc800dc122d0": {
      "model_module": "@jupyter-widgets/base",
      "model_module_version": "1.2.0",
      "model_name": "LayoutModel",
      "state": {}
     },
     "c65f6e8c2a9e4733b25e9cceeae1b3ee": {
      "model_module": "@jupyter-widgets/controls",
      "model_module_version": "1.5.0",
      "model_name": "HBoxModel",
      "state": {
       "children": [
        "IPY_MODEL_172af4a8020d4610944952fc5fe0173f",
        "IPY_MODEL_b75878a41da74ed49d3650bbe60b6329",
        "IPY_MODEL_153ec5dc699d4cc9a018a41d40a6f8ed"
       ],
       "layout": "IPY_MODEL_0b1178b9bfc842ec922f42bf5f51d4f9"
      }
     },
     "c8244b4a86ac432f9b98c5726790653d": {
      "model_module": "@jupyter-widgets/base",
      "model_module_version": "1.2.0",
      "model_name": "LayoutModel",
      "state": {}
     },
     "c88a9cb84b1549c6b1e658220e58bbd6": {
      "model_module": "@jupyter-widgets/controls",
      "model_module_version": "1.5.0",
      "model_name": "HTMLModel",
      "state": {
       "layout": "IPY_MODEL_fc566d7d10204ef29ca4b688b335119e",
       "style": "IPY_MODEL_f5df535113ef47e8ae0b1e0f384e6297",
       "value": " 1/1 [00:00&lt;00:00, 44.60it/s]"
      }
     },
     "cc54f85f0939412fbcd9770d0dad81a8": {
      "model_module": "@jupyter-widgets/controls",
      "model_module_version": "1.5.0",
      "model_name": "HTMLModel",
      "state": {
       "layout": "IPY_MODEL_ce83330702a34f8982f0c0be289b0ff8",
       "style": "IPY_MODEL_9c502445a27a42cfae75f65f736fadc8",
       "value": " 1/1 [00:00&lt;00:00, 40.42it/s]"
      }
     },
     "ce83330702a34f8982f0c0be289b0ff8": {
      "model_module": "@jupyter-widgets/base",
      "model_module_version": "1.2.0",
      "model_name": "LayoutModel",
      "state": {}
     },
     "cfb53198aecc4b839364781139abd160": {
      "model_module": "@jupyter-widgets/controls",
      "model_module_version": "1.5.0",
      "model_name": "HTMLModel",
      "state": {
       "layout": "IPY_MODEL_a0dd3d39f7b74bb4a5ebbdccf23d339b",
       "style": "IPY_MODEL_091d5b9623014aa896c81b27b38ab358",
       "value": "100%"
      }
     },
     "d467a53b58c8482c9e331332b3d7921c": {
      "model_module": "@jupyter-widgets/base",
      "model_module_version": "1.2.0",
      "model_name": "LayoutModel",
      "state": {}
     },
     "d532a7663621408da56b0835b8b7b0c1": {
      "model_module": "@jupyter-widgets/controls",
      "model_module_version": "1.5.0",
      "model_name": "HBoxModel",
      "state": {
       "children": [
        "IPY_MODEL_a5f958d60efc44588952bb2c2a1be0f4",
        "IPY_MODEL_d557978795b94b6db2d936a540ba28e5",
        "IPY_MODEL_7eb91dc609bc43e7b0484853e10e9651"
       ],
       "layout": "IPY_MODEL_3e470661f6cf4923aeaf5d74c920fb0c"
      }
     },
     "d557978795b94b6db2d936a540ba28e5": {
      "model_module": "@jupyter-widgets/controls",
      "model_module_version": "1.5.0",
      "model_name": "FloatProgressModel",
      "state": {
       "bar_style": "success",
       "layout": "IPY_MODEL_c8244b4a86ac432f9b98c5726790653d",
       "max": 1,
       "style": "IPY_MODEL_75230a9aa8814f218979a1b9d6f11287",
       "value": 1
      }
     },
     "d7c7de45a76e457484cd32accd2d294e": {
      "model_module": "@jupyter-widgets/controls",
      "model_module_version": "1.5.0",
      "model_name": "HBoxModel",
      "state": {
       "children": [
        "IPY_MODEL_e4b96b10a0574992ad69a26a23d44d63",
        "IPY_MODEL_a4bbf6a7aa884edeb1647ca52ca11b16",
        "IPY_MODEL_5b1552271bae4724bc5ceaba78c605e7"
       ],
       "layout": "IPY_MODEL_03fccb9b64684a4888612a48f95d59e9"
      }
     },
     "d8b21466f44f404fbcad0020fe8f77c5": {
      "model_module": "@jupyter-widgets/controls",
      "model_module_version": "1.5.0",
      "model_name": "FloatProgressModel",
      "state": {
       "bar_style": "success",
       "layout": "IPY_MODEL_ff22813d13b14f439df523255937d3ca",
       "max": 1,
       "style": "IPY_MODEL_a0decb93581c462e95d2658e4f0137d6",
       "value": 1
      }
     },
     "dd7d9db715124e9a936fb7072b8952ee": {
      "model_module": "@jupyter-widgets/base",
      "model_module_version": "1.2.0",
      "model_name": "LayoutModel",
      "state": {}
     },
     "ddbfaaee1bc0498282bc19c95e8ed787": {
      "model_module": "@jupyter-widgets/base",
      "model_module_version": "1.2.0",
      "model_name": "LayoutModel",
      "state": {}
     },
     "df72d0cb42ca4f86ab1b29c0a5180d8b": {
      "model_module": "@jupyter-widgets/base",
      "model_module_version": "1.2.0",
      "model_name": "LayoutModel",
      "state": {}
     },
     "df86c6fb42664b90a9952f3c22483791": {
      "model_module": "@jupyter-widgets/controls",
      "model_module_version": "1.5.0",
      "model_name": "ProgressStyleModel",
      "state": {
       "description_width": ""
      }
     },
     "e06c698d298949e8902423a2ca280b67": {
      "model_module": "@jupyter-widgets/base",
      "model_module_version": "1.2.0",
      "model_name": "LayoutModel",
      "state": {}
     },
     "e1f539b0ad8842338f0de55d9f2a2d81": {
      "model_module": "@jupyter-widgets/controls",
      "model_module_version": "1.5.0",
      "model_name": "DescriptionStyleModel",
      "state": {
       "description_width": ""
      }
     },
     "e4b96b10a0574992ad69a26a23d44d63": {
      "model_module": "@jupyter-widgets/controls",
      "model_module_version": "1.5.0",
      "model_name": "HTMLModel",
      "state": {
       "layout": "IPY_MODEL_c070c1e087f24aec8fc85d9175ddf6a3",
       "style": "IPY_MODEL_3f6a1dbca6c84ae181699ee504e46c2c",
       "value": "100%"
      }
     },
     "e5525ee682bb4acfa0c0b4da4e247908": {
      "model_module": "@jupyter-widgets/base",
      "model_module_version": "1.2.0",
      "model_name": "LayoutModel",
      "state": {}
     },
     "e7381a550cd7407faee400843d63a5bf": {
      "model_module": "@jupyter-widgets/controls",
      "model_module_version": "1.5.0",
      "model_name": "ProgressStyleModel",
      "state": {
       "description_width": ""
      }
     },
     "e7be07dc55a94d0ea7df0e08902f7fb6": {
      "model_module": "@jupyter-widgets/controls",
      "model_module_version": "1.5.0",
      "model_name": "ProgressStyleModel",
      "state": {
       "description_width": ""
      }
     },
     "ee8b090f722f4724ba78f6ec1268eca9": {
      "model_module": "@jupyter-widgets/base",
      "model_module_version": "1.2.0",
      "model_name": "LayoutModel",
      "state": {}
     },
     "f151fb48cca74d7080ffdb8218cd8535": {
      "model_module": "@jupyter-widgets/controls",
      "model_module_version": "1.5.0",
      "model_name": "HBoxModel",
      "state": {
       "children": [
        "IPY_MODEL_2341009bd3a74983ba10a695b85fdb7a",
        "IPY_MODEL_4526f62e2f3a4545a808a63ee03b2261",
        "IPY_MODEL_811470ea439444b69f23caeebae68371"
       ],
       "layout": "IPY_MODEL_8483337a3c664f159c28bf84ec0f1ac2"
      }
     },
     "f3acd9203df041adb5bffbd947122eb2": {
      "model_module": "@jupyter-widgets/controls",
      "model_module_version": "1.5.0",
      "model_name": "ProgressStyleModel",
      "state": {
       "description_width": ""
      }
     },
     "f46de6fd0c824586b478f78f69858ee7": {
      "model_module": "@jupyter-widgets/controls",
      "model_module_version": "1.5.0",
      "model_name": "HTMLModel",
      "state": {
       "layout": "IPY_MODEL_bdeafc07a8f8404990c71e051bc49a45",
       "style": "IPY_MODEL_1f8eb74dcd374366ab172690cfde62b9",
       "value": " 1/1 [00:00&lt;00:00, 41.19it/s]"
      }
     },
     "f579acd793ef4f53a1363c357bcd6210": {
      "model_module": "@jupyter-widgets/controls",
      "model_module_version": "1.5.0",
      "model_name": "ProgressStyleModel",
      "state": {
       "description_width": ""
      }
     },
     "f5df535113ef47e8ae0b1e0f384e6297": {
      "model_module": "@jupyter-widgets/controls",
      "model_module_version": "1.5.0",
      "model_name": "DescriptionStyleModel",
      "state": {
       "description_width": ""
      }
     },
     "fc566d7d10204ef29ca4b688b335119e": {
      "model_module": "@jupyter-widgets/base",
      "model_module_version": "1.2.0",
      "model_name": "LayoutModel",
      "state": {}
     },
     "fcc1801d55664407addcc16d171df8c0": {
      "model_module": "@jupyter-widgets/controls",
      "model_module_version": "1.5.0",
      "model_name": "DescriptionStyleModel",
      "state": {
       "description_width": ""
      }
     },
     "ff22813d13b14f439df523255937d3ca": {
      "model_module": "@jupyter-widgets/base",
      "model_module_version": "1.2.0",
      "model_name": "LayoutModel",
      "state": {}
     }
    },
    "version_major": 2,
    "version_minor": 0
   }
  }
 },
 "nbformat": 4,
 "nbformat_minor": 4
}
