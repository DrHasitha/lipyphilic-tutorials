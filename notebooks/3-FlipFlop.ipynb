{
 "cells": [
  {
   "cell_type": "markdown",
   "metadata": {},
   "source": [
    "# Identify cholesterol flip-flop events\n",
    "\n",
    "A flip-flop event occurs when a molecule - typically a sterol - moves from one leaflet of a bilayer into the opposing leaflet.\n",
    "\n",
    "We will identify flip-flop events in a ternary mixture of DPPC, DOPC, and Cholesterol simulated by [Smith et al.](https://www.biorxiv.org/content/10.1101/2021.05.24.445501v3).\n"
   ]
  },
  {
   "cell_type": "code",
   "execution_count": 1,
   "metadata": {},
   "outputs": [],
   "source": [
    "import pickle\n",
    "\n",
    "import numpy as np\n",
    "import MDAnalysis as mda\n",
    "\n",
    "from lipyphilic.lib.flip_flop import FlipFlop\n"
   ]
  },
  {
   "cell_type": "markdown",
   "metadata": {},
   "source": [
    "## Load the topology and trajectory using MDAnalysis"
   ]
  },
  {
   "cell_type": "code",
   "execution_count": 2,
   "metadata": {},
   "outputs": [],
   "source": [
    "u = mda.Universe(\"../datafiles/dppc-dopc-chol.tpr\", \"../datafiles/dppc-dopc-chol.xtc\")"
   ]
  },
  {
   "cell_type": "markdown",
   "metadata": {},
   "source": [
    "## Load the leaflet information\n",
    "\n",
    "To identify flip-flop events, we first need to know which leaflet each lipid is in at each frame. We will use the results from the notebook on [assigning lipids to leaflets](2-AssignLeaflets.ipynb)."
   ]
  },
  {
   "cell_type": "code",
   "execution_count": 3,
   "metadata": {},
   "outputs": [],
   "source": [
    "with open(\"../results/leaflets.pkl\", 'rb') as f:\n",
    "    leaflets = pickle.load(f)\n",
    "    "
   ]
  },
  {
   "cell_type": "markdown",
   "metadata": {},
   "source": [
    "## Find flip-flop events\n",
    "\n",
    "The class `lipyphilic.lib.flip_flop.FlipFlop` finds the frames at which a flip-flop event begins and ends, as well as the direction of travel (upper-to-lower or lower-to-upper).\n",
    "\n"
   ]
  },
  {
   "cell_type": "code",
   "execution_count": 4,
   "metadata": {},
   "outputs": [],
   "source": [
    "flip_flop = FlipFlop(\n",
    "    universe=u,\n",
    "    lipid_sel=\"resname CHOL and name ROH\",                           # only find flip-flop events for cholesterol\n",
    "    leaflets=leaflets.filter_leaflets(\"resname CHOL and name ROH\")   # pass only leaflet information on cholesterol\n",
    ")"
   ]
  },
  {
   "cell_type": "markdown",
   "metadata": {},
   "source": [
    "Select the frames to use in the analysis (`None` will use every frame):"
   ]
  },
  {
   "cell_type": "code",
   "execution_count": 5,
   "metadata": {},
   "outputs": [
    {
     "data": {
      "application/vnd.jupyter.widget-view+json": {
       "model_id": "1da87c2a2d2748dfaaef9c56443d346c",
       "version_major": 2,
       "version_minor": 0
      },
      "text/plain": [
       "  0%|          | 0/4000 [00:00<?, ?it/s]"
      ]
     },
     "metadata": {},
     "output_type": "display_data"
    },
    {
     "data": {
      "text/plain": [
       "<lipyphilic.lib.flip_flop.FlipFlop at 0x7f2f91f02d90>"
      ]
     },
     "execution_count": 5,
     "metadata": {},
     "output_type": "execute_result"
    }
   ],
   "source": [
    "flip_flop.run(\n",
    "    start=None,\n",
    "    stop=None,\n",
    "    step=None\n",
    ")\n"
   ]
  },
  {
   "cell_type": "markdown",
   "metadata": {},
   "source": [
    "## Access the results"
   ]
  },
  {
   "cell_type": "markdown",
   "metadata": {},
   "source": [
    "The results are then available in the `flipflop.flip_flops` attribute as a NumPy array.\n",
    "\n",
    "Each row corresponds to an individual flip-flop event. In each row, the four columns correspond to the:\n",
    "- molecule resindex\n",
    "- flip-flop start frame\n",
    "- flip-flop end frame\n",
    "- the leaflet in which the molecule resides after the flip-flop. 1 and -1 correspond to the upper and lower leaflets respectively.\n"
   ]
  },
  {
   "cell_type": "code",
   "execution_count": 6,
   "metadata": {},
   "outputs": [
    {
     "data": {
      "text/plain": [
       "(7743, 4)"
      ]
     },
     "execution_count": 6,
     "metadata": {},
     "output_type": "execute_result"
    }
   ],
   "source": [
    "# We see there were 7743 flip-flop events in total\n",
    "flip_flop.flip_flops.shape"
   ]
  },
  {
   "cell_type": "markdown",
   "metadata": {},
   "source": [
    "Let's look at the first flip-flop event:"
   ]
  },
  {
   "cell_type": "code",
   "execution_count": 7,
   "metadata": {},
   "outputs": [],
   "source": [
    "first_event = flip_flop.flip_flops[0]"
   ]
  },
  {
   "cell_type": "code",
   "execution_count": 8,
   "metadata": {},
   "outputs": [
    {
     "data": {
      "text/plain": [
       "array([ 1, 39, 40,  1])"
      ]
     },
     "execution_count": 8,
     "metadata": {},
     "output_type": "execute_result"
    }
   ],
   "source": [
    "first_event"
   ]
  },
  {
   "cell_type": "markdown",
   "metadata": {},
   "source": [
    "In the above case, cholesterol with residue index 1 left it's original leaflet at frame 39, and entered its new leaflet at frame 40. This new leaflet is the upper leaflet (as the fourth column is equal to 1)."
   ]
  },
  {
   "cell_type": "markdown",
   "metadata": {},
   "source": [
    "With this information, it is possible to, for example, determine the local lipid environemnt immediately before and after the flip-flop event occured. This is useful to know as [Gu et al.](https://pubs.acs.org/doi/10.1021/acs.jctc.8b00933) showed that translocation is highly influenced by the local lipid environment of cholesterol."
   ]
  },
  {
   "cell_type": "markdown",
   "metadata": {},
   "source": [
    "# Specify minimum residence time for successful flip-flops\n",
    "\n",
    "Due to thermal fluctuations, cholesterol may briefly go to the midplane before returning to its original lealfet. It may also briefly leave the midplane before returning to the hydrophobic core. As such, it is useful to be able to ignore these small fluctuations.\n",
    "\n",
    "With `FlipFlop`, we can specify the minumum number of frames a molecule must reside in its new leaflet for the flip-flop to be considered successful. We do this using the `frame_cutoff` keyword:"
   ]
  },
  {
   "cell_type": "code",
   "execution_count": 9,
   "metadata": {},
   "outputs": [],
   "source": [
    "flip_flop = FlipFlop(\n",
    "    universe=u,\n",
    "    lipid_sel=\"name ROH\",\n",
    "    leaflets=leaflets.filter_leaflets(\"name ROH\"),\n",
    "    frame_cutoff=2,\n",
    ")"
   ]
  },
  {
   "cell_type": "markdown",
   "metadata": {},
   "source": [
    "With *frame_cutoff=2*, a molecule must remain in its new leaflet for at least 2 consecutive frames for the flip-flop to be considered successful. If this condition is not, the flip-flop event is ignored."
   ]
  },
  {
   "cell_type": "code",
   "execution_count": 10,
   "metadata": {},
   "outputs": [
    {
     "data": {
      "application/vnd.jupyter.widget-view+json": {
       "model_id": "50e8a7d114d04b43b17810673b0e6e4f",
       "version_major": 2,
       "version_minor": 0
      },
      "text/plain": [
       "  0%|          | 0/4000 [00:00<?, ?it/s]"
      ]
     },
     "metadata": {},
     "output_type": "display_data"
    },
    {
     "data": {
      "text/plain": [
       "<lipyphilic.lib.flip_flop.FlipFlop at 0x7f2f3308dfa0>"
      ]
     },
     "execution_count": 10,
     "metadata": {},
     "output_type": "execute_result"
    }
   ],
   "source": [
    "flip_flop.run(\n",
    "    start=None,\n",
    "    stop=None,\n",
    "    step=None\n",
    ")\n"
   ]
  },
  {
   "cell_type": "markdown",
   "metadata": {},
   "source": [
    "Because we have ignored any flip-flop events where cholesterol residues in its new leaflet for one frame only, we see fewer flip-flop events in total:"
   ]
  },
  {
   "cell_type": "code",
   "execution_count": 11,
   "metadata": {},
   "outputs": [
    {
     "data": {
      "text/plain": [
       "(4410, 4)"
      ]
     },
     "execution_count": 11,
     "metadata": {},
     "output_type": "execute_result"
    }
   ],
   "source": [
    "# We see there are now 4410 flip-flop events in total (compared to 7743 previously)\n",
    "flip_flop.flip_flops.shape"
   ]
  },
  {
   "cell_type": "markdown",
   "metadata": {},
   "source": [
    "# Calculate the flip-flop rate\n",
    "\n",
    "`FlipFlop` returns information on whether each event was successful (the molecule resides in the opposing leaflet for at least a given length of time), or not (the molecule went to the midplane but returned to its original leaflet).\n",
    "\n",
    "This information is stored as a NumPy array in the `flip_flop.flip_flop_success` attribute:"
   ]
  },
  {
   "cell_type": "code",
   "execution_count": 12,
   "metadata": {},
   "outputs": [
    {
     "data": {
      "text/plain": [
       "array(['Success', 'Success', 'Success', ..., 'Success', 'Success',\n",
       "       'Success'], dtype='<U7')"
      ]
     },
     "execution_count": 12,
     "metadata": {},
     "output_type": "execute_result"
    }
   ],
   "source": [
    "flip_flop.flip_flop_success"
   ]
  },
  {
   "cell_type": "markdown",
   "metadata": {},
   "source": [
    "There is one value (\"Success\" or \"Fail\") for each flip-flop event:"
   ]
  },
  {
   "cell_type": "code",
   "execution_count": 13,
   "metadata": {},
   "outputs": [
    {
     "data": {
      "text/plain": [
       "4410"
      ]
     },
     "execution_count": 13,
     "metadata": {},
     "output_type": "execute_result"
    }
   ],
   "source": [
    "flip_flop.flip_flop_success.size"
   ]
  },
  {
   "cell_type": "markdown",
   "metadata": {},
   "source": [
    "The number of successful flip-flops can be used to calculate the rate of cholesterol translocation. The flip-flop rate, $k$, is given by the number of successful flip-flop events, $N_{\\rm Success}$, divided by the product of the number of cholesterol molecles, ($N_{\\rm Chol}$), and the total simulation time, $t_{\\rm Seconds}$, used in the analysis:\n",
    "\n",
    "$$\n",
    "k = \\frac{N_{\\rm Success}}{N_{\\rm Chol} t_{\\rm Seconds}}\n",
    "$$"
   ]
  },
  {
   "cell_type": "code",
   "execution_count": 14,
   "metadata": {},
   "outputs": [],
   "source": [
    "cholesterol = u.select_atoms(\"resname CHOL\")\n",
    "n_cholesterol = cholesterol.n_residues"
   ]
  },
  {
   "cell_type": "code",
   "execution_count": 15,
   "metadata": {},
   "outputs": [],
   "source": [
    "ps_to_seconds = 1e-12  # convert ps to seconds\n",
    "total_time = flip_flop.n_frames * flip_flop.step * u.trajectory.dt * ps_to_seconds"
   ]
  },
  {
   "cell_type": "code",
   "execution_count": 16,
   "metadata": {},
   "outputs": [],
   "source": [
    "number_successful = np.sum(flip_flop.flip_flop_success == \"Success\")"
   ]
  },
  {
   "cell_type": "code",
   "execution_count": 17,
   "metadata": {},
   "outputs": [],
   "source": [
    "flip_flop_rate = number_successful / (n_cholesterol * total_time)  # per second"
   ]
  },
  {
   "cell_type": "code",
   "execution_count": 18,
   "metadata": {},
   "outputs": [
    {
     "data": {
      "text/plain": [
       "4252941.176470588"
      ]
     },
     "execution_count": 18,
     "metadata": {},
     "output_type": "execute_result"
    }
   ],
   "source": [
    "flip_flop_rate"
   ]
  },
  {
   "cell_type": "markdown",
   "metadata": {},
   "source": [
    "Note\n",
    "----\n",
    "\n",
    "See [Baral et al.](https://www.sciencedirect.com/science/article/pii/S0009308420300980) for further discussion on flip-flop in lipid bilayers, including the affect on the flip-flop rate of the buffer size used to assign molecules to the midplane of the bilayer.\n"
   ]
  },
  {
   "cell_type": "code",
   "execution_count": null,
   "metadata": {},
   "outputs": [],
   "source": []
  }
 ],
 "metadata": {
  "kernelspec": {
   "display_name": "Python [conda env:lpp]",
   "language": "python",
   "name": "conda-env-lpp-py"
  },
  "language_info": {
   "codemirror_mode": {
    "name": "ipython",
    "version": 3
   },
   "file_extension": ".py",
   "mimetype": "text/x-python",
   "name": "python",
   "nbconvert_exporter": "python",
   "pygments_lexer": "ipython3",
   "version": "3.8.6"
  },
  "widgets": {
   "application/vnd.jupyter.widget-state+json": {
    "state": {
     "0e6e18b0ec03402293f37d76bc74faf6": {
      "model_module": "@jupyter-widgets/controls",
      "model_module_version": "1.5.0",
      "model_name": "HTMLModel",
      "state": {
       "layout": "IPY_MODEL_b8ccebaed90f4c529baee75ed459106b",
       "style": "IPY_MODEL_e043d0a0ab7f4cb1a2d5fc1ac9e8ae55",
       "value": " 4000/4000 [00:00&lt;00:00, 10448.91it/s]"
      }
     },
     "1244ae1840e84dfa97ea6b7137808816": {
      "model_module": "@jupyter-widgets/controls",
      "model_module_version": "1.5.0",
      "model_name": "ProgressStyleModel",
      "state": {
       "description_width": ""
      }
     },
     "18dbc78152da433a88ac2e2930329565": {
      "model_module": "@jupyter-widgets/controls",
      "model_module_version": "1.5.0",
      "model_name": "FloatProgressModel",
      "state": {
       "bar_style": "success",
       "layout": "IPY_MODEL_c5bd54361f6648eaa814dfb463220bef",
       "max": 4000,
       "style": "IPY_MODEL_1244ae1840e84dfa97ea6b7137808816",
       "value": 4000
      }
     },
     "1a437019bb344cd79af75c23457da067": {
      "model_module": "@jupyter-widgets/controls",
      "model_module_version": "1.5.0",
      "model_name": "DescriptionStyleModel",
      "state": {
       "description_width": ""
      }
     },
     "1da87c2a2d2748dfaaef9c56443d346c": {
      "model_module": "@jupyter-widgets/controls",
      "model_module_version": "1.5.0",
      "model_name": "HBoxModel",
      "state": {
       "children": [
        "IPY_MODEL_3236d5c0ddf54a44a1a08c39248e65d3",
        "IPY_MODEL_5413857491d44dd98751ef842b453a89",
        "IPY_MODEL_0e6e18b0ec03402293f37d76bc74faf6"
       ],
       "layout": "IPY_MODEL_9ec106e70d9f4c4785dac0f91fb11929"
      }
     },
     "3236d5c0ddf54a44a1a08c39248e65d3": {
      "model_module": "@jupyter-widgets/controls",
      "model_module_version": "1.5.0",
      "model_name": "HTMLModel",
      "state": {
       "layout": "IPY_MODEL_8f89dc696ffb4bd4ab21f56dce70de3b",
       "style": "IPY_MODEL_fb9528e8211b49f7b9bb576a52e8ed8a",
       "value": "100%"
      }
     },
     "3a43511c5074493b97ba460df8dfa28d": {
      "model_module": "@jupyter-widgets/controls",
      "model_module_version": "1.5.0",
      "model_name": "DescriptionStyleModel",
      "state": {
       "description_width": ""
      }
     },
     "464e66e1f1214b4f95226c9ad61c59ac": {
      "model_module": "@jupyter-widgets/controls",
      "model_module_version": "1.5.0",
      "model_name": "HTMLModel",
      "state": {
       "layout": "IPY_MODEL_e715fe596653497dbc33c1d956cb5328",
       "style": "IPY_MODEL_1a437019bb344cd79af75c23457da067",
       "value": "100%"
      }
     },
     "50e8a7d114d04b43b17810673b0e6e4f": {
      "model_module": "@jupyter-widgets/controls",
      "model_module_version": "1.5.0",
      "model_name": "HBoxModel",
      "state": {
       "children": [
        "IPY_MODEL_464e66e1f1214b4f95226c9ad61c59ac",
        "IPY_MODEL_18dbc78152da433a88ac2e2930329565",
        "IPY_MODEL_6aa2dd773a9f473a822c42db5646e62a"
       ],
       "layout": "IPY_MODEL_da8ad00b6ec74280a91f7ffedc04704b"
      }
     },
     "5413857491d44dd98751ef842b453a89": {
      "model_module": "@jupyter-widgets/controls",
      "model_module_version": "1.5.0",
      "model_name": "FloatProgressModel",
      "state": {
       "bar_style": "success",
       "layout": "IPY_MODEL_e47b0931cdcd4fc899e3164cef05aa2c",
       "max": 4000,
       "style": "IPY_MODEL_b10889a06ea04405a4b6b5e67e007e1b",
       "value": 4000
      }
     },
     "6aa2dd773a9f473a822c42db5646e62a": {
      "model_module": "@jupyter-widgets/controls",
      "model_module_version": "1.5.0",
      "model_name": "HTMLModel",
      "state": {
       "layout": "IPY_MODEL_820daec8614d47a99e99e5ad6cdb311e",
       "style": "IPY_MODEL_3a43511c5074493b97ba460df8dfa28d",
       "value": " 4000/4000 [00:00&lt;00:00, 10122.97it/s]"
      }
     },
     "820daec8614d47a99e99e5ad6cdb311e": {
      "model_module": "@jupyter-widgets/base",
      "model_module_version": "1.2.0",
      "model_name": "LayoutModel",
      "state": {}
     },
     "8f89dc696ffb4bd4ab21f56dce70de3b": {
      "model_module": "@jupyter-widgets/base",
      "model_module_version": "1.2.0",
      "model_name": "LayoutModel",
      "state": {}
     },
     "9ec106e70d9f4c4785dac0f91fb11929": {
      "model_module": "@jupyter-widgets/base",
      "model_module_version": "1.2.0",
      "model_name": "LayoutModel",
      "state": {}
     },
     "b10889a06ea04405a4b6b5e67e007e1b": {
      "model_module": "@jupyter-widgets/controls",
      "model_module_version": "1.5.0",
      "model_name": "ProgressStyleModel",
      "state": {
       "description_width": ""
      }
     },
     "b8ccebaed90f4c529baee75ed459106b": {
      "model_module": "@jupyter-widgets/base",
      "model_module_version": "1.2.0",
      "model_name": "LayoutModel",
      "state": {}
     },
     "c5bd54361f6648eaa814dfb463220bef": {
      "model_module": "@jupyter-widgets/base",
      "model_module_version": "1.2.0",
      "model_name": "LayoutModel",
      "state": {}
     },
     "da8ad00b6ec74280a91f7ffedc04704b": {
      "model_module": "@jupyter-widgets/base",
      "model_module_version": "1.2.0",
      "model_name": "LayoutModel",
      "state": {}
     },
     "e043d0a0ab7f4cb1a2d5fc1ac9e8ae55": {
      "model_module": "@jupyter-widgets/controls",
      "model_module_version": "1.5.0",
      "model_name": "DescriptionStyleModel",
      "state": {
       "description_width": ""
      }
     },
     "e47b0931cdcd4fc899e3164cef05aa2c": {
      "model_module": "@jupyter-widgets/base",
      "model_module_version": "1.2.0",
      "model_name": "LayoutModel",
      "state": {}
     },
     "e715fe596653497dbc33c1d956cb5328": {
      "model_module": "@jupyter-widgets/base",
      "model_module_version": "1.2.0",
      "model_name": "LayoutModel",
      "state": {}
     },
     "fb9528e8211b49f7b9bb576a52e8ed8a": {
      "model_module": "@jupyter-widgets/controls",
      "model_module_version": "1.5.0",
      "model_name": "DescriptionStyleModel",
      "state": {
       "description_width": ""
      }
     }
    },
    "version_major": 2,
    "version_minor": 0
   }
  }
 },
 "nbformat": 4,
 "nbformat_minor": 4
}
