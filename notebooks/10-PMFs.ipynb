{
 "cells": [
  {
   "cell_type": "markdown",
   "metadata": {},
   "source": [
    "# Calculate 2D PMFs from joint probability distributions\n",
    "We use **lipyphilic** to plot a two-dimensional potential of mean force (PMF) of cholesterol height and orientation in a planar bilayer. We will use the equimolar ternary mixture of DPPC, DOPC, and cholesterol studied by [Smith et al.](https://www.biorxiv.org/content/10.1101/2021.05.24.445501v3)\n",
    "\n",
    "First we will determine the height and orientation using `lipyphilic.lib.z_positions.ZPositions` and `lipyphilic.lib.z_angles.ZAngles`, respectively.\n",
    "\n",
    "Then we will use `lipyphilic.lib.plotting.JointDensity` to plot the two-dimensional PMF of height and orientation.\n",
    "\n",
    "Note\n",
    "----\n",
    "Using `lipyphilic.lib.plotting.JointDensity` to calculate the PMF of orientation and height is arbitrary - `JointDensity` can be used to plot the 2D PMF of any two observables.\n"
   ]
  },
  {
   "cell_type": "code",
   "execution_count": 2,
   "metadata": {},
   "outputs": [],
   "source": [
    "import numpy as np\n",
    "import matplotlib.pyplot as plt\n",
    "\n",
    "import MDAnalysis as mda\n",
    "\n",
    "from lipyphilic.lib.z_positions import ZPositions\n",
    "from lipyphilic.lib.z_angles import ZAngles\n",
    "from lipyphilic.lib.plotting import JointDensity\n"
   ]
  },
  {
   "cell_type": "markdown",
   "metadata": {},
   "source": [
    "## Load the topology and trajectory using MDAnalysis"
   ]
  },
  {
   "cell_type": "code",
   "execution_count": 3,
   "metadata": {},
   "outputs": [],
   "source": [
    "u = mda.Universe(\"../datafiles/dppc-dopc-chol.tpr\", \"../datafiles/dppc-dopc-chol.xtc\")"
   ]
  },
  {
   "cell_type": "markdown",
   "metadata": {},
   "source": [
    "## Cholesterol height in the membrane\n",
    "\n",
    "We will first use `ZPositions` to calculate the height of each cholesterol molecule within the bilayer.\n",
    "\n",
    "We need to pass our universe, along with the following parameters:\n",
    "\n",
    "- `lipid_sel`: atom selection covering **all** lipids in the bilayer\n",
    "- `height_sel` : atom selection for the molecules for which the $z$ position will be calculated \n",
    "\n",
    "The midpoint of the bilayer will be calculated using the atoms selected by `lipid_sel`. Then, the signed distance in $z$ from the midpoint will be calculated for each molecule using the atoms selected bt `height_sel`.\n",
    "\n",
    "By default, a single membrane midpoint is used in the calculation. However, we will also use the optional `n_bins` keyword to split the membrane  $n_{\\rm bins} * n_{\\rm bins}$ patches. A local membrane midpoint is calculated for each bilayer patch, and heights calculated based on signed distances to the relevant local membrane midpoint.\n"
   ]
  },
  {
   "cell_type": "code",
   "execution_count": 6,
   "metadata": {},
   "outputs": [],
   "source": [
    "height = ZPositions(\n",
    "    universe=u,\n",
    "    lipid_sel=\"name GL1 GL2 ROH\",  # selects the glycerol backbone of phospholipids and hydroxyl group of cholesterol\n",
    "    height_sel=\"name ROH\",  # consider only cholesterol, ignore the phospholipids\n",
    "    n_bins=10  # split the membrane into a 10 by 10 grid and cal\n",
    ")\n"
   ]
  },
  {
   "cell_type": "markdown",
   "metadata": {},
   "source": [
    "We then select which frames of the trajectory to analyse (`None` will use every frame) and choose to display a progress bar (`verbose=True`)::"
   ]
  },
  {
   "cell_type": "code",
   "execution_count": 7,
   "metadata": {},
   "outputs": [
    {
     "data": {
      "application/vnd.jupyter.widget-view+json": {
       "model_id": "95b9bc8583ac4fa1b3f19f77512fc6aa",
       "version_major": 2,
       "version_minor": 0
      },
      "text/plain": [
       "  0%|          | 0/51 [00:00<?, ?it/s]"
      ]
     },
     "metadata": {},
     "output_type": "display_data"
    },
    {
     "data": {
      "text/plain": [
       "<lipyphilic.lib.z_positions.ZPositions at 0x7fe0a146da90>"
      ]
     },
     "execution_count": 7,
     "metadata": {},
     "output_type": "execute_result"
    }
   ],
   "source": [
    "height.run(\n",
    "    start=None,\n",
    "    stop=None,\n",
    "    step=None,\n",
    "    verbose=True\n",
    ")\n"
   ]
  },
  {
   "cell_type": "markdown",
   "metadata": {},
   "source": [
    "## Cholesterol orientation in the membrane\n",
    "\n",
    "We will use `ZAngles` to calculate the orientation with respect to the positive $z$ axis of each cholesterol molecule in the bilayer.\n",
    "\n",
    "Two atoms must be selected per lipid, and the angle between the $z$ axis and the vector joining the two atoms will be calculated for each lipid. The\n",
    "vector will always point from atom B to atom A, even for lipids in the lower leaflet. This means the angle $\\theta_{ABz}$ will be in the range\n",
    "$-180° < \\theta < 180°$.\n",
    "\n",
    "We need to pass our universe, along with the following parameters:\n",
    "\n",
    "- `atom_A_sel` : atom selection for atom A in each lipid\n",
    "- `atom_B_sel` : atom selection for atom B in each lipid\n"
   ]
  },
  {
   "cell_type": "code",
   "execution_count": 9,
   "metadata": {},
   "outputs": [],
   "source": [
    "angles = ZAngles(\n",
    "    universe=u,\n",
    "    atom_A_sel=\"name R5\",  # cyclic ring nearest the aliphatic tail of cholesterol\n",
    "    atom_B_sel=\"name ROH\"  # hydroxyl headgroup of cholesterol\n",
    ")\n"
   ]
  },
  {
   "cell_type": "markdown",
   "metadata": {},
   "source": [
    "We then select which frames of the trajectory to analyse (`None` will use every frame) and choose to display a progress bar (`verbose=True`)::"
   ]
  },
  {
   "cell_type": "code",
   "execution_count": 10,
   "metadata": {},
   "outputs": [
    {
     "data": {
      "application/vnd.jupyter.widget-view+json": {
       "model_id": "5beec7167e0f47c893508ae431c5c768",
       "version_major": 2,
       "version_minor": 0
      },
      "text/plain": [
       "  0%|          | 0/51 [00:00<?, ?it/s]"
      ]
     },
     "metadata": {},
     "output_type": "display_data"
    },
    {
     "data": {
      "text/plain": [
       "<lipyphilic.lib.z_angles.ZAngles at 0x7fe0a146d610>"
      ]
     },
     "execution_count": 10,
     "metadata": {},
     "output_type": "execute_result"
    }
   ],
   "source": [
    "angles.run(start=-500, stop=None, step=None, verbose=True)"
   ]
  },
  {
   "cell_type": "markdown",
   "metadata": {},
   "source": [
    "# Plot the height-orientation PMF\n",
    "\n",
    "We are now ready to plot the two-dimensional PMF of cholesterol orientation and height using `JointDensity`.\n",
    "\n",
    "We first need to **initialise our plotting object** by passing the results from `ZAngles` and `ZPositions` to the `ob1` and `ob2` keywords of `JointDensity`.\n",
    "\n",
    "Note, `ob1` and `ob2` can be any two observables,  but they must have the same number of data points.\n"
   ]
  },
  {
   "cell_type": "code",
   "execution_count": 11,
   "metadata": {},
   "outputs": [],
   "source": [
    "pmf = JointDensity(\n",
    "    ob1=angles.z_angles,\n",
    "    ob2=height.z_positions\n",
    ")\n"
   ]
  },
  {
   "cell_type": "markdown",
   "metadata": {},
   "source": [
    "To calculate the PMF, we must specifiy the temperature (in K) at which the simulation was performed. We pass this to the `calc_density_2D` function of `JointDensity`, which will create a two-dimensional histogram of the heights and orientations.\n",
    "\n",
    "We will also the number of bins to use in constructing the hisogram.\n"
   ]
  },
  {
   "cell_type": "code",
   "execution_count": 12,
   "metadata": {},
   "outputs": [],
   "source": [
    "temperature = 300\n",
    "angle_bins = np.linspace(0, 180, 181)\n",
    "height_bins = np.linspace(-30, 30, 61)\n"
   ]
  },
  {
   "cell_type": "code",
   "execution_count": 14,
   "metadata": {},
   "outputs": [],
   "source": [
    "pmf.calc_density_2D(\n",
    "    bins=(angle_bins, height_bins),\n",
    "    temperature=temperature\n",
    ")\n"
   ]
  },
  {
   "cell_type": "markdown",
   "metadata": {},
   "source": [
    "Now we will remove any NaN values from our histogram through a linear interpolation:\n"
   ]
  },
  {
   "cell_type": "code",
   "execution_count": 15,
   "metadata": {},
   "outputs": [],
   "source": [
    "pmf.interpolate()"
   ]
  },
  {
   "cell_type": "markdown",
   "metadata": {},
   "source": [
    "And finally, we will **plot the results**\n",
    "\n",
    "We specify the maximum allowed value of the PMF with `vmax`. All values above this cutoff will be coloured the same.\n"
   ]
  },
  {
   "cell_type": "code",
   "execution_count": 16,
   "metadata": {},
   "outputs": [
    {
     "data": {
      "image/png": "[encoded data removed]",
      "text/plain": [
       "<Figure size 216x216 with 2 Axes>"
      ]
     },
     "metadata": {
      "needs_background": "light"
     },
     "output_type": "display_data"
    }
   ],
   "source": [
    "vmax = 10\n",
    "\n",
    "pmf.plot_density(\n",
    "    vmax=vmax\n",
    ")\n"
   ]
  },
  {
   "cell_type": "markdown",
   "metadata": {},
   "source": [
    "# Control aesthetics\n",
    "\n",
    "There are many options that we can use to control the aesthetics of out plot. Below we will look at some of these options.\n",
    "\n",
    "**We can change the aesthetics of our plot without creating a new object - we simply need to call `plot_density` again**\n"
   ]
  },
  {
   "cell_type": "code",
   "execution_count": 19,
   "metadata": {},
   "outputs": [],
   "source": [
    "title = \"PMF at 300 K\"\n",
    "xlabel = r\"$\\theta_Z\\ \\rm (\\degree)$\"\n",
    "ylabel= r\"$z\\ \\rm (\\AA)$\"\n",
    "\n",
    "# minimum and maximum values of the colourbar\n",
    "vmin = 0\n",
    "vmax = 10\n",
    "\n",
    "# label the first 2 contours with their values\n",
    "# This makes it easy to know the gradient across each contour\n",
    "contour_labels = [1, 2]  # which contours to label\n",
    "clabel_kws = {\n",
    "    \"fontsize\": 12,  # font size of contour label\n",
    "    \"inline\": True,  # break the contour to write the label\n",
    "    \"fmt\": \"%.1f\"    # precision of contour value\n",
    "}\n"
   ]
  },
  {
   "cell_type": "code",
   "execution_count": 20,
   "metadata": {},
   "outputs": [
    {
     "data": {
      "image/png": "[encoded data removed]",
      "text/plain": [
       "<Figure size 288x288 with 2 Axes>"
      ]
     },
     "metadata": {
      "needs_background": "light"
     },
     "output_type": "display_data"
    }
   ],
   "source": [
    "fig, ax = plt.subplots(1, figsize=(4, 4), sharey=True, sharex=True)\n",
    "\n",
    "pmf.plot_density(\n",
    "    ax=ax,\n",
    "    title=title,\n",
    "    ylabel=ylabel,\n",
    "    xlabel=xlabel,\n",
    "    vmin=vmin, vmax=vmax,\n",
    "    contour_labels=contour_labels,\n",
    "    clabel_kws=clabel_kws\n",
    ")\n"
   ]
  },
  {
   "cell_type": "code",
   "execution_count": null,
   "metadata": {},
   "outputs": [],
   "source": []
  }
 ],
 "metadata": {
  "kernelspec": {
   "display_name": "Python [conda env:lpp]",
   "language": "python",
   "name": "conda-env-lpp-py"
  },
  "language_info": {
   "codemirror_mode": {
    "name": "ipython",
    "version": 3
   },
   "file_extension": ".py",
   "mimetype": "text/x-python",
   "name": "python",
   "nbconvert_exporter": "python",
   "pygments_lexer": "ipython3",
   "version": "3.8.6"
  },
  "widgets": {
   "application/vnd.jupyter.widget-state+json": {
    "state": {
     "015b9730fe87451db0a3dadba36787d4": {
      "model_module": "@jupyter-widgets/controls",
      "model_module_version": "1.5.0",
      "model_name": "HTMLModel",
      "state": {
       "layout": "IPY_MODEL_52ef24d14fde42649f47957b6f8d55b7",
       "style": "IPY_MODEL_a4c21588225e4a7086c205f060334153",
       "value": "100%"
      }
     },
     "07fc9b3969ac45d790be757fda1148c9": {
      "model_module": "@jupyter-widgets/controls",
      "model_module_version": "1.5.0",
      "model_name": "HTMLModel",
      "state": {
       "layout": "IPY_MODEL_bec7761ce1d0461d93ecc6f819a25a71",
       "style": "IPY_MODEL_cb007ed3afcc4a2481393ee518cf21a6",
       "value": " 51/51 [00:00&lt;00:00, 67.74it/s]"
      }
     },
     "1f97fd47e5624de4bce35bfbb549047a": {
      "model_module": "@jupyter-widgets/controls",
      "model_module_version": "1.5.0",
      "model_name": "DescriptionStyleModel",
      "state": {
       "description_width": ""
      }
     },
     "1fed3913904049cd892244dd2bb665a3": {
      "model_module": "@jupyter-widgets/controls",
      "model_module_version": "1.5.0",
      "model_name": "HTMLModel",
      "state": {
       "layout": "IPY_MODEL_3ab287e82da349089c0e801b13877224",
       "style": "IPY_MODEL_1f97fd47e5624de4bce35bfbb549047a",
       "value": " 51/51 [00:01&lt;00:00, 42.20it/s]"
      }
     },
     "27344f606d6145b7a7f94ce55a0c0878": {
      "model_module": "@jupyter-widgets/controls",
      "model_module_version": "1.5.0",
      "model_name": "DescriptionStyleModel",
      "state": {
       "description_width": ""
      }
     },
     "27bc4ca57d924396beb9f3e3262a2c64": {
      "model_module": "@jupyter-widgets/base",
      "model_module_version": "1.2.0",
      "model_name": "LayoutModel",
      "state": {}
     },
     "2c80f9bb24164c8f92f9efb162a46ea6": {
      "model_module": "@jupyter-widgets/controls",
      "model_module_version": "1.5.0",
      "model_name": "HTMLModel",
      "state": {
       "layout": "IPY_MODEL_9c64e6af5bc9472484cc55b0267cf2f0",
       "style": "IPY_MODEL_27344f606d6145b7a7f94ce55a0c0878",
       "value": "100%"
      }
     },
     "36317631d0854c1ba4f72db14afd9536": {
      "model_module": "@jupyter-widgets/base",
      "model_module_version": "1.2.0",
      "model_name": "LayoutModel",
      "state": {}
     },
     "391c878151e94bdeb136cd4a416c0606": {
      "model_module": "@jupyter-widgets/base",
      "model_module_version": "1.2.0",
      "model_name": "LayoutModel",
      "state": {}
     },
     "3ab287e82da349089c0e801b13877224": {
      "model_module": "@jupyter-widgets/base",
      "model_module_version": "1.2.0",
      "model_name": "LayoutModel",
      "state": {}
     },
     "3f39197a5dab40b784ba9f96aaa68f00": {
      "model_module": "@jupyter-widgets/controls",
      "model_module_version": "1.5.0",
      "model_name": "ProgressStyleModel",
      "state": {
       "description_width": ""
      }
     },
     "52ef24d14fde42649f47957b6f8d55b7": {
      "model_module": "@jupyter-widgets/base",
      "model_module_version": "1.2.0",
      "model_name": "LayoutModel",
      "state": {}
     },
     "5beec7167e0f47c893508ae431c5c768": {
      "model_module": "@jupyter-widgets/controls",
      "model_module_version": "1.5.0",
      "model_name": "HBoxModel",
      "state": {
       "children": [
        "IPY_MODEL_015b9730fe87451db0a3dadba36787d4",
        "IPY_MODEL_ed9da58ef68d499a88ef8a95330eba4f",
        "IPY_MODEL_1fed3913904049cd892244dd2bb665a3"
       ],
       "layout": "IPY_MODEL_27bc4ca57d924396beb9f3e3262a2c64"
      }
     },
     "62498fec801c4937b8c3bebe76cf83a0": {
      "model_module": "@jupyter-widgets/base",
      "model_module_version": "1.2.0",
      "model_name": "LayoutModel",
      "state": {}
     },
     "7854b86c361b4ee4b3f3a663354eb371": {
      "model_module": "@jupyter-widgets/controls",
      "model_module_version": "1.5.0",
      "model_name": "ProgressStyleModel",
      "state": {
       "description_width": ""
      }
     },
     "7fec592b70fc43bab689948d8b956def": {
      "model_module": "@jupyter-widgets/controls",
      "model_module_version": "1.5.0",
      "model_name": "FloatProgressModel",
      "state": {
       "bar_style": "success",
       "layout": "IPY_MODEL_62498fec801c4937b8c3bebe76cf83a0",
       "max": 51,
       "style": "IPY_MODEL_3f39197a5dab40b784ba9f96aaa68f00",
       "value": 51
      }
     },
     "95b9bc8583ac4fa1b3f19f77512fc6aa": {
      "model_module": "@jupyter-widgets/controls",
      "model_module_version": "1.5.0",
      "model_name": "HBoxModel",
      "state": {
       "children": [
        "IPY_MODEL_2c80f9bb24164c8f92f9efb162a46ea6",
        "IPY_MODEL_7fec592b70fc43bab689948d8b956def",
        "IPY_MODEL_07fc9b3969ac45d790be757fda1148c9"
       ],
       "layout": "IPY_MODEL_36317631d0854c1ba4f72db14afd9536"
      }
     },
     "9c64e6af5bc9472484cc55b0267cf2f0": {
      "model_module": "@jupyter-widgets/base",
      "model_module_version": "1.2.0",
      "model_name": "LayoutModel",
      "state": {}
     },
     "a4c21588225e4a7086c205f060334153": {
      "model_module": "@jupyter-widgets/controls",
      "model_module_version": "1.5.0",
      "model_name": "DescriptionStyleModel",
      "state": {
       "description_width": ""
      }
     },
     "bec7761ce1d0461d93ecc6f819a25a71": {
      "model_module": "@jupyter-widgets/base",
      "model_module_version": "1.2.0",
      "model_name": "LayoutModel",
      "state": {}
     },
     "cb007ed3afcc4a2481393ee518cf21a6": {
      "model_module": "@jupyter-widgets/controls",
      "model_module_version": "1.5.0",
      "model_name": "DescriptionStyleModel",
      "state": {
       "description_width": ""
      }
     },
     "ed9da58ef68d499a88ef8a95330eba4f": {
      "model_module": "@jupyter-widgets/controls",
      "model_module_version": "1.5.0",
      "model_name": "FloatProgressModel",
      "state": {
       "bar_style": "success",
       "layout": "IPY_MODEL_391c878151e94bdeb136cd4a416c0606",
       "max": 51,
       "style": "IPY_MODEL_7854b86c361b4ee4b3f3a663354eb371",
       "value": 51
      }
     }
    },
    "version_major": 2,
    "version_minor": 0
   }
  }
 },
 "nbformat": 4,
 "nbformat_minor": 4
}
