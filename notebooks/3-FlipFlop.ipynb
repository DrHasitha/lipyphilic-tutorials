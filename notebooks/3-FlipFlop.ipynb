{
 "cells": [
  {
   "cell_type": "markdown",
   "metadata": {},
   "source": [
    "# Identify cholesterol flip-flop events\n",
    "\n",
    "A flip-flop event occurs when a molecule - typically a sterol - moves from one leaflet of a bilayer into the opposing leaflet.\n",
    "\n",
    "We will identify flip-flop events in a ternary mixture of DPPC, DOPC, and Cholesterol simulated by [Smith et al.](https://www.biorxiv.org/content/10.1101/2021.05.24.445501v3).\n"
   ]
  },
  {
   "cell_type": "code",
   "execution_count": 31,
   "metadata": {},
   "outputs": [],
   "source": [
    "import pathlib\n",
    "import pickle\n",
    "\n",
    "import numpy as np\n",
    "import MDAnalysis as mda\n",
    "\n",
    "from lipyphilic.lib.flip_flop import FlipFlop\n"
   ]
  },
  {
   "cell_type": "markdown",
   "metadata": {},
   "source": [
    "## Load the topology and trajectory using MDAnalysis"
   ]
  },
  {
   "cell_type": "code",
   "execution_count": 32,
   "metadata": {},
   "outputs": [],
   "source": [
    "u = mda.Universe(\"../datafiles/dppc-dopc-chol.tpr\", \"../datafiles/dppc-dopc-chol.xtc\")"
   ]
  },
  {
   "cell_type": "markdown",
   "metadata": {},
   "source": [
    "## Load the leaflet information\n",
    "\n",
    "To identify flip-flop events, we first need to know which leaflet each lipid is in at each frame. We will use the results from the notebook on [assigning lipids to leaflets](2-AssignLeaflets.ipynb)."
   ]
  },
  {
   "cell_type": "code",
   "execution_count": 33,
   "metadata": {},
   "outputs": [],
   "source": [
    "with open(\"../results/leaflets/leaflets-dppc-dopc-chol.pkl\", 'rb') as f:\n",
    "    leaflets = pickle.load(f)\n",
    "    "
   ]
  },
  {
   "cell_type": "markdown",
   "metadata": {},
   "source": [
    "## Find flip-flop events\n",
    "\n",
    "The class `lipyphilic.lib.flip_flop.FlipFlop` finds the frames at which a flip-flop event begins and ends, as well as the direction of travel (upper-to-lower or lower-to-upper).\n",
    "\n"
   ]
  },
  {
   "cell_type": "code",
   "execution_count": 34,
   "metadata": {},
   "outputs": [],
   "source": [
    "flip_flop = FlipFlop(\n",
    "    universe=u,\n",
    "    lipid_sel=\"resname CHOL and name ROH\",                           # only find flip-flop events for cholesterol\n",
    "    leaflets=leaflets.filter_leaflets(\"resname CHOL and name ROH\")   # pass only leaflet information on cholesterol\n",
    ")"
   ]
  },
  {
   "cell_type": "markdown",
   "metadata": {},
   "source": [
    "Select the frames to use in the analysis (`None` will use every frame):"
   ]
  },
  {
   "cell_type": "code",
   "execution_count": 35,
   "metadata": {},
   "outputs": [
    {
     "data": {
      "application/vnd.jupyter.widget-view+json": {
       "model_id": "87ac0622b3814e99959465df86c565b3",
       "version_major": 2,
       "version_minor": 0
      },
      "text/plain": [
       "  0%|          | 0/4000 [00:00<?, ?it/s]"
      ]
     },
     "metadata": {},
     "output_type": "display_data"
    },
    {
     "data": {
      "text/plain": [
       "<lipyphilic.lib.flip_flop.FlipFlop at 0x7f2f2fb69190>"
      ]
     },
     "execution_count": 35,
     "metadata": {},
     "output_type": "execute_result"
    }
   ],
   "source": [
    "flip_flop.run(\n",
    "    start=None,\n",
    "    stop=None,\n",
    "    step=None\n",
    ")\n"
   ]
  },
  {
   "cell_type": "markdown",
   "metadata": {},
   "source": [
    "## Access the results"
   ]
  },
  {
   "cell_type": "markdown",
   "metadata": {},
   "source": [
    "The results are then available in the `flipflop.flip_flops` attribute as a NumPy array.\n",
    "\n",
    "Each row corresponds to an individual flip-flop event. In each row, the four columns correspond to the:\n",
    "- molecule resindex\n",
    "- flip-flop start frame\n",
    "- flip-flop end frame\n",
    "- the leaflet in which the molecule resides after the flip-flop. 1 and -1 correspond to the upper and lower leaflets respectively.\n"
   ]
  },
  {
   "cell_type": "code",
   "execution_count": 36,
   "metadata": {},
   "outputs": [
    {
     "data": {
      "text/plain": [
       "(15166, 4)"
      ]
     },
     "execution_count": 36,
     "metadata": {},
     "output_type": "execute_result"
    }
   ],
   "source": [
    "# We see there were 15166 flip-flop events in total\n",
    "flip_flop.flip_flops.shape"
   ]
  },
  {
   "cell_type": "markdown",
   "metadata": {},
   "source": [
    "Let's look at the first flip-flop event:"
   ]
  },
  {
   "cell_type": "code",
   "execution_count": 37,
   "metadata": {},
   "outputs": [],
   "source": [
    "first_event = flip_flop.flip_flops[0]"
   ]
  },
  {
   "cell_type": "code",
   "execution_count": 38,
   "metadata": {},
   "outputs": [
    {
     "data": {
      "text/plain": [
       "array([ 1, 11, 13, -1])"
      ]
     },
     "execution_count": 38,
     "metadata": {},
     "output_type": "execute_result"
    }
   ],
   "source": [
    "first_event"
   ]
  },
  {
   "cell_type": "markdown",
   "metadata": {},
   "source": [
    "In the above case, cholesterol with residue index 1 left it's original leaflet at frame 39, and entered its new leaflet at frame 40. This new leaflet is the upper leaflet (as the fourth column is equal to 1)."
   ]
  },
  {
   "cell_type": "markdown",
   "metadata": {},
   "source": [
    "With this information, it is possible to, for example, determine the local lipid environemnt immediately before and after the flip-flop event occured. This is useful to know as [Gu et al.](https://pubs.acs.org/doi/10.1021/acs.jctc.8b00933) showed that translocation is highly influenced by the local lipid environment of cholesterol."
   ]
  },
  {
   "cell_type": "markdown",
   "metadata": {},
   "source": [
    "# Specify minimum residence time for successful flip-flops\n",
    "\n",
    "Due to thermal fluctuations, cholesterol may briefly go to the midplane before returning to its original lealfet. It may also briefly leave the midplane before returning to the hydrophobic core. As such, it is useful to be able to ignore these small fluctuations.\n",
    "\n",
    "With `FlipFlop`, we can specify the minumum number of frames a molecule must reside in its new leaflet for the flip-flop to be considered successful. We do this using the `frame_cutoff` keyword:"
   ]
  },
  {
   "cell_type": "code",
   "execution_count": 39,
   "metadata": {},
   "outputs": [],
   "source": [
    "flip_flop = FlipFlop(\n",
    "    universe=u,\n",
    "    lipid_sel=\"name ROH\",\n",
    "    leaflets=leaflets.filter_leaflets(\"name ROH\"),\n",
    "    frame_cutoff=2,\n",
    ")"
   ]
  },
  {
   "cell_type": "markdown",
   "metadata": {},
   "source": [
    "With *frame_cutoff=2*, a molecule must remain in its new leaflet for at least 2 consecutive frames for the flip-flop to be considered successful. If this condition is not, the flip-flop event is ignored."
   ]
  },
  {
   "cell_type": "code",
   "execution_count": 40,
   "metadata": {},
   "outputs": [
    {
     "data": {
      "application/vnd.jupyter.widget-view+json": {
       "model_id": "2fabbfee070c478d86405c909be0b759",
       "version_major": 2,
       "version_minor": 0
      },
      "text/plain": [
       "  0%|          | 0/4000 [00:00<?, ?it/s]"
      ]
     },
     "metadata": {},
     "output_type": "display_data"
    },
    {
     "data": {
      "text/plain": [
       "<lipyphilic.lib.flip_flop.FlipFlop at 0x7f2f2fb695b0>"
      ]
     },
     "execution_count": 40,
     "metadata": {},
     "output_type": "execute_result"
    }
   ],
   "source": [
    "flip_flop.run(\n",
    "    start=None,\n",
    "    stop=None,\n",
    "    step=None\n",
    ")\n"
   ]
  },
  {
   "cell_type": "markdown",
   "metadata": {},
   "source": [
    "Because we have ignored any flip-flop events where cholesterol residues in its new leaflet for one frame only, we see fewer flip-flop events in total:"
   ]
  },
  {
   "cell_type": "code",
   "execution_count": 41,
   "metadata": {},
   "outputs": [
    {
     "data": {
      "text/plain": [
       "(4665, 4)"
      ]
     },
     "execution_count": 41,
     "metadata": {},
     "output_type": "execute_result"
    }
   ],
   "source": [
    "# We see there are now 4665 flip-flop events in total (compared to 15166 previously)\n",
    "flip_flop.flip_flops.shape"
   ]
  },
  {
   "cell_type": "markdown",
   "metadata": {},
   "source": [
    "## Store the results for later usage\n",
    "\n",
    "We will store the results in the following directory:"
   ]
  },
  {
   "cell_type": "code",
   "execution_count": 42,
   "metadata": {},
   "outputs": [],
   "source": [
    "results_directory = pathlib.Path(\n",
    "    \"../results/flip-flop\"\n",
    ")\n",
    "\n",
    "# Create the directory if it doesn't already exist\n",
    "results_directory.resolve().mkdir(exist_ok=True, parents=True)\n"
   ]
  },
  {
   "cell_type": "code",
   "execution_count": 43,
   "metadata": {},
   "outputs": [
    {
     "name": "stdout",
     "output_type": "stream",
     "text": [
      "../results/flip-flop/flip-flop-dppc-dopc-chol.pkl\n"
     ]
    }
   ],
   "source": [
    "# Location to store the results\n",
    "filename = results_directory.joinpath(\"flip-flop-dppc-dopc-chol.pkl\")\n",
    "print(filename)\n"
   ]
  },
  {
   "cell_type": "code",
   "execution_count": 44,
   "metadata": {},
   "outputs": [],
   "source": [
    "# store the object\n",
    "with open(filename, 'wb') as f:\n",
    "    pickle.dump(leaflets, f)\n"
   ]
  },
  {
   "cell_type": "markdown",
   "metadata": {},
   "source": [
    "# Calculate the flip-flop rate\n",
    "\n",
    "`FlipFlop` returns information on whether each event was successful (the molecule resides in the opposing leaflet for at least a given length of time), or not (the molecule went to the midplane but returned to its original leaflet).\n",
    "\n",
    "This information is stored as a NumPy array in the `flip_flop.flip_flop_success` attribute:"
   ]
  },
  {
   "cell_type": "code",
   "execution_count": 45,
   "metadata": {},
   "outputs": [
    {
     "data": {
      "text/plain": [
       "array(['Success', 'Success', 'Success', ..., 'Success', 'Fail', 'Fail'],\n",
       "      dtype='<U7')"
      ]
     },
     "execution_count": 45,
     "metadata": {},
     "output_type": "execute_result"
    }
   ],
   "source": [
    "flip_flop.flip_flop_success"
   ]
  },
  {
   "cell_type": "markdown",
   "metadata": {},
   "source": [
    "There is one value (\"Success\" or \"Fail\") for each flip-flop event:"
   ]
  },
  {
   "cell_type": "code",
   "execution_count": 46,
   "metadata": {},
   "outputs": [
    {
     "data": {
      "text/plain": [
       "4665"
      ]
     },
     "execution_count": 46,
     "metadata": {},
     "output_type": "execute_result"
    }
   ],
   "source": [
    "flip_flop.flip_flop_success.size"
   ]
  },
  {
   "cell_type": "markdown",
   "metadata": {},
   "source": [
    "The number of successful flip-flops can be used to calculate the rate of cholesterol translocation. The flip-flop rate, $k$, is given by the number of successful flip-flop events, $N_{\\rm Success}$, divided by the product of the number of cholesterol molecles, ($N_{\\rm Chol}$), and the total simulation time, $t_{\\rm Seconds}$, used in the analysis:\n",
    "\n",
    "$$\n",
    "k = \\frac{N_{\\rm Success}}{N_{\\rm Chol} t_{\\rm Seconds}}\n",
    "$$"
   ]
  },
  {
   "cell_type": "code",
   "execution_count": 47,
   "metadata": {},
   "outputs": [],
   "source": [
    "cholesterol = u.select_atoms(\"resname CHOL\")\n",
    "n_cholesterol = cholesterol.n_residues\n"
   ]
  },
  {
   "cell_type": "code",
   "execution_count": 48,
   "metadata": {},
   "outputs": [],
   "source": [
    "ps_to_seconds = 1e-12  # convert ps to seconds\n",
    "total_time = flip_flop.n_frames * flip_flop.step * u.trajectory.dt * ps_to_seconds\n"
   ]
  },
  {
   "cell_type": "code",
   "execution_count": 49,
   "metadata": {},
   "outputs": [],
   "source": [
    "number_successful = np.sum(flip_flop.flip_flop_success == \"Success\")"
   ]
  },
  {
   "cell_type": "code",
   "execution_count": 50,
   "metadata": {},
   "outputs": [],
   "source": [
    "flip_flop_rate = number_successful / (n_cholesterol * total_time)  # per second"
   ]
  },
  {
   "cell_type": "code",
   "execution_count": 51,
   "metadata": {},
   "outputs": [
    {
     "name": "stdout",
     "output_type": "stream",
     "text": [
      "2.753922e+06\n"
     ]
    }
   ],
   "source": [
    "# Print the rate per second in scientific notation\n",
    "print(f\"{flip_flop_rate:e}\")"
   ]
  },
  {
   "cell_type": "markdown",
   "metadata": {},
   "source": [
    "Note\n",
    "----\n",
    "\n",
    "See [Baral et al.](https://www.sciencedirect.com/science/article/pii/S0009308420300980) for further discussion on flip-flop in lipid bilayers, including the affect on the flip-flop rate of the buffer size used to assign molecules to the midplane of the bilayer.\n"
   ]
  },
  {
   "cell_type": "code",
   "execution_count": null,
   "metadata": {},
   "outputs": [],
   "source": []
  }
 ],
 "metadata": {
  "kernelspec": {
   "display_name": "Python [conda env:lpp]",
   "language": "python",
   "name": "conda-env-lpp-py"
  },
  "language_info": {
   "codemirror_mode": {
    "name": "ipython",
    "version": 3
   },
   "file_extension": ".py",
   "mimetype": "text/x-python",
   "name": "python",
   "nbconvert_exporter": "python",
   "pygments_lexer": "ipython3",
   "version": "3.8.6"
  },
  "widgets": {
   "application/vnd.jupyter.widget-state+json": {
    "state": {
     "0702224a0f0b44dbaa468e431ce95b42": {
      "model_module": "@jupyter-widgets/controls",
      "model_module_version": "1.5.0",
      "model_name": "FloatProgressModel",
      "state": {
       "bar_style": "success",
       "layout": "IPY_MODEL_ba79b6c14b96474594d0b5d26db766a6",
       "max": 4000,
       "style": "IPY_MODEL_b3228413aa30438dbac873323d22852b",
       "value": 4000
      }
     },
     "0e6e18b0ec03402293f37d76bc74faf6": {
      "model_module": "@jupyter-widgets/controls",
      "model_module_version": "1.5.0",
      "model_name": "HTMLModel",
      "state": {
       "layout": "IPY_MODEL_b8ccebaed90f4c529baee75ed459106b",
       "style": "IPY_MODEL_e043d0a0ab7f4cb1a2d5fc1ac9e8ae55",
       "value": " 4000/4000 [00:00&lt;00:00, 10448.91it/s]"
      }
     },
     "1244ae1840e84dfa97ea6b7137808816": {
      "model_module": "@jupyter-widgets/controls",
      "model_module_version": "1.5.0",
      "model_name": "ProgressStyleModel",
      "state": {
       "description_width": ""
      }
     },
     "18dbc78152da433a88ac2e2930329565": {
      "model_module": "@jupyter-widgets/controls",
      "model_module_version": "1.5.0",
      "model_name": "FloatProgressModel",
      "state": {
       "bar_style": "success",
       "layout": "IPY_MODEL_c5bd54361f6648eaa814dfb463220bef",
       "max": 4000,
       "style": "IPY_MODEL_1244ae1840e84dfa97ea6b7137808816",
       "value": 4000
      }
     },
     "1a437019bb344cd79af75c23457da067": {
      "model_module": "@jupyter-widgets/controls",
      "model_module_version": "1.5.0",
      "model_name": "DescriptionStyleModel",
      "state": {
       "description_width": ""
      }
     },
     "1da87c2a2d2748dfaaef9c56443d346c": {
      "model_module": "@jupyter-widgets/controls",
      "model_module_version": "1.5.0",
      "model_name": "HBoxModel",
      "state": {
       "children": [
        "IPY_MODEL_3236d5c0ddf54a44a1a08c39248e65d3",
        "IPY_MODEL_5413857491d44dd98751ef842b453a89",
        "IPY_MODEL_0e6e18b0ec03402293f37d76bc74faf6"
       ],
       "layout": "IPY_MODEL_9ec106e70d9f4c4785dac0f91fb11929"
      }
     },
     "274d540137e842b485497e8ced87291a": {
      "model_module": "@jupyter-widgets/base",
      "model_module_version": "1.2.0",
      "model_name": "LayoutModel",
      "state": {}
     },
     "297e6b08b13b47f8a6ff9290b52ba9be": {
      "model_module": "@jupyter-widgets/controls",
      "model_module_version": "1.5.0",
      "model_name": "ProgressStyleModel",
      "state": {
       "description_width": ""
      }
     },
     "2fabbfee070c478d86405c909be0b759": {
      "model_module": "@jupyter-widgets/controls",
      "model_module_version": "1.5.0",
      "model_name": "HBoxModel",
      "state": {
       "children": [
        "IPY_MODEL_b5006a665e604629a5ea77c679ec68e1",
        "IPY_MODEL_0702224a0f0b44dbaa468e431ce95b42",
        "IPY_MODEL_a279dbca3a424e23a205a37872bb76bb"
       ],
       "layout": "IPY_MODEL_8ec2de56072b402483bb38520a957b2d"
      }
     },
     "30975bc2b339421bafcea126aa7c875b": {
      "model_module": "@jupyter-widgets/base",
      "model_module_version": "1.2.0",
      "model_name": "LayoutModel",
      "state": {}
     },
     "3236d5c0ddf54a44a1a08c39248e65d3": {
      "model_module": "@jupyter-widgets/controls",
      "model_module_version": "1.5.0",
      "model_name": "HTMLModel",
      "state": {
       "layout": "IPY_MODEL_8f89dc696ffb4bd4ab21f56dce70de3b",
       "style": "IPY_MODEL_fb9528e8211b49f7b9bb576a52e8ed8a",
       "value": "100%"
      }
     },
     "355a366834e6434b8cf89cfa426d1bec": {
      "model_module": "@jupyter-widgets/base",
      "model_module_version": "1.2.0",
      "model_name": "LayoutModel",
      "state": {}
     },
     "3a43511c5074493b97ba460df8dfa28d": {
      "model_module": "@jupyter-widgets/controls",
      "model_module_version": "1.5.0",
      "model_name": "DescriptionStyleModel",
      "state": {
       "description_width": ""
      }
     },
     "424ca7d8dc4d47d790f67c25e869d7d0": {
      "model_module": "@jupyter-widgets/base",
      "model_module_version": "1.2.0",
      "model_name": "LayoutModel",
      "state": {}
     },
     "464e66e1f1214b4f95226c9ad61c59ac": {
      "model_module": "@jupyter-widgets/controls",
      "model_module_version": "1.5.0",
      "model_name": "HTMLModel",
      "state": {
       "layout": "IPY_MODEL_e715fe596653497dbc33c1d956cb5328",
       "style": "IPY_MODEL_1a437019bb344cd79af75c23457da067",
       "value": "100%"
      }
     },
     "50e8a7d114d04b43b17810673b0e6e4f": {
      "model_module": "@jupyter-widgets/controls",
      "model_module_version": "1.5.0",
      "model_name": "HBoxModel",
      "state": {
       "children": [
        "IPY_MODEL_464e66e1f1214b4f95226c9ad61c59ac",
        "IPY_MODEL_18dbc78152da433a88ac2e2930329565",
        "IPY_MODEL_6aa2dd773a9f473a822c42db5646e62a"
       ],
       "layout": "IPY_MODEL_da8ad00b6ec74280a91f7ffedc04704b"
      }
     },
     "5413857491d44dd98751ef842b453a89": {
      "model_module": "@jupyter-widgets/controls",
      "model_module_version": "1.5.0",
      "model_name": "FloatProgressModel",
      "state": {
       "bar_style": "success",
       "layout": "IPY_MODEL_e47b0931cdcd4fc899e3164cef05aa2c",
       "max": 4000,
       "style": "IPY_MODEL_b10889a06ea04405a4b6b5e67e007e1b",
       "value": 4000
      }
     },
     "588deaa8c3d4427595e675c4223b4821": {
      "model_module": "@jupyter-widgets/controls",
      "model_module_version": "1.5.0",
      "model_name": "DescriptionStyleModel",
      "state": {
       "description_width": ""
      }
     },
     "666389fac27b44d896e36cad5bb8a0a3": {
      "model_module": "@jupyter-widgets/controls",
      "model_module_version": "1.5.0",
      "model_name": "HTMLModel",
      "state": {
       "layout": "IPY_MODEL_424ca7d8dc4d47d790f67c25e869d7d0",
       "style": "IPY_MODEL_588deaa8c3d4427595e675c4223b4821",
       "value": " 4000/4000 [00:00&lt;00:00, 6916.26it/s]"
      }
     },
     "669f2ba48fd240c19fcc9b9701198005": {
      "model_module": "@jupyter-widgets/controls",
      "model_module_version": "1.5.0",
      "model_name": "DescriptionStyleModel",
      "state": {
       "description_width": ""
      }
     },
     "69bd248985554097b0699c8550ac5c66": {
      "model_module": "@jupyter-widgets/controls",
      "model_module_version": "1.5.0",
      "model_name": "HTMLModel",
      "state": {
       "layout": "IPY_MODEL_355a366834e6434b8cf89cfa426d1bec",
       "style": "IPY_MODEL_9f4868a4860b4826a4c02e697bb7bcc5",
       "value": "100%"
      }
     },
     "6aa2dd773a9f473a822c42db5646e62a": {
      "model_module": "@jupyter-widgets/controls",
      "model_module_version": "1.5.0",
      "model_name": "HTMLModel",
      "state": {
       "layout": "IPY_MODEL_820daec8614d47a99e99e5ad6cdb311e",
       "style": "IPY_MODEL_3a43511c5074493b97ba460df8dfa28d",
       "value": " 4000/4000 [00:00&lt;00:00, 10122.97it/s]"
      }
     },
     "820daec8614d47a99e99e5ad6cdb311e": {
      "model_module": "@jupyter-widgets/base",
      "model_module_version": "1.2.0",
      "model_name": "LayoutModel",
      "state": {}
     },
     "87ac0622b3814e99959465df86c565b3": {
      "model_module": "@jupyter-widgets/controls",
      "model_module_version": "1.5.0",
      "model_name": "HBoxModel",
      "state": {
       "children": [
        "IPY_MODEL_69bd248985554097b0699c8550ac5c66",
        "IPY_MODEL_d0e02cb7a1df4996a1e7c3a0c6a166ec",
        "IPY_MODEL_666389fac27b44d896e36cad5bb8a0a3"
       ],
       "layout": "IPY_MODEL_274d540137e842b485497e8ced87291a"
      }
     },
     "8bb5c41d525a47c2be16e6ad65777fdb": {
      "model_module": "@jupyter-widgets/base",
      "model_module_version": "1.2.0",
      "model_name": "LayoutModel",
      "state": {}
     },
     "8ec2de56072b402483bb38520a957b2d": {
      "model_module": "@jupyter-widgets/base",
      "model_module_version": "1.2.0",
      "model_name": "LayoutModel",
      "state": {}
     },
     "8f89dc696ffb4bd4ab21f56dce70de3b": {
      "model_module": "@jupyter-widgets/base",
      "model_module_version": "1.2.0",
      "model_name": "LayoutModel",
      "state": {}
     },
     "9ec106e70d9f4c4785dac0f91fb11929": {
      "model_module": "@jupyter-widgets/base",
      "model_module_version": "1.2.0",
      "model_name": "LayoutModel",
      "state": {}
     },
     "9f4868a4860b4826a4c02e697bb7bcc5": {
      "model_module": "@jupyter-widgets/controls",
      "model_module_version": "1.5.0",
      "model_name": "DescriptionStyleModel",
      "state": {
       "description_width": ""
      }
     },
     "a279dbca3a424e23a205a37872bb76bb": {
      "model_module": "@jupyter-widgets/controls",
      "model_module_version": "1.5.0",
      "model_name": "HTMLModel",
      "state": {
       "layout": "IPY_MODEL_ffc7f2692c67491799e9fbc6734d42e3",
       "style": "IPY_MODEL_fe5f18d3fd9f40f6be91a58d5457e810",
       "value": " 4000/4000 [00:00&lt;00:00, 7482.33it/s]"
      }
     },
     "b10889a06ea04405a4b6b5e67e007e1b": {
      "model_module": "@jupyter-widgets/controls",
      "model_module_version": "1.5.0",
      "model_name": "ProgressStyleModel",
      "state": {
       "description_width": ""
      }
     },
     "b3228413aa30438dbac873323d22852b": {
      "model_module": "@jupyter-widgets/controls",
      "model_module_version": "1.5.0",
      "model_name": "ProgressStyleModel",
      "state": {
       "description_width": ""
      }
     },
     "b5006a665e604629a5ea77c679ec68e1": {
      "model_module": "@jupyter-widgets/controls",
      "model_module_version": "1.5.0",
      "model_name": "HTMLModel",
      "state": {
       "layout": "IPY_MODEL_30975bc2b339421bafcea126aa7c875b",
       "style": "IPY_MODEL_669f2ba48fd240c19fcc9b9701198005",
       "value": "100%"
      }
     },
     "b8ccebaed90f4c529baee75ed459106b": {
      "model_module": "@jupyter-widgets/base",
      "model_module_version": "1.2.0",
      "model_name": "LayoutModel",
      "state": {}
     },
     "ba79b6c14b96474594d0b5d26db766a6": {
      "model_module": "@jupyter-widgets/base",
      "model_module_version": "1.2.0",
      "model_name": "LayoutModel",
      "state": {}
     },
     "c5bd54361f6648eaa814dfb463220bef": {
      "model_module": "@jupyter-widgets/base",
      "model_module_version": "1.2.0",
      "model_name": "LayoutModel",
      "state": {}
     },
     "d0e02cb7a1df4996a1e7c3a0c6a166ec": {
      "model_module": "@jupyter-widgets/controls",
      "model_module_version": "1.5.0",
      "model_name": "FloatProgressModel",
      "state": {
       "bar_style": "success",
       "layout": "IPY_MODEL_8bb5c41d525a47c2be16e6ad65777fdb",
       "max": 4000,
       "style": "IPY_MODEL_297e6b08b13b47f8a6ff9290b52ba9be",
       "value": 4000
      }
     },
     "da8ad00b6ec74280a91f7ffedc04704b": {
      "model_module": "@jupyter-widgets/base",
      "model_module_version": "1.2.0",
      "model_name": "LayoutModel",
      "state": {}
     },
     "e043d0a0ab7f4cb1a2d5fc1ac9e8ae55": {
      "model_module": "@jupyter-widgets/controls",
      "model_module_version": "1.5.0",
      "model_name": "DescriptionStyleModel",
      "state": {
       "description_width": ""
      }
     },
     "e47b0931cdcd4fc899e3164cef05aa2c": {
      "model_module": "@jupyter-widgets/base",
      "model_module_version": "1.2.0",
      "model_name": "LayoutModel",
      "state": {}
     },
     "e715fe596653497dbc33c1d956cb5328": {
      "model_module": "@jupyter-widgets/base",
      "model_module_version": "1.2.0",
      "model_name": "LayoutModel",
      "state": {}
     },
     "fb9528e8211b49f7b9bb576a52e8ed8a": {
      "model_module": "@jupyter-widgets/controls",
      "model_module_version": "1.5.0",
      "model_name": "DescriptionStyleModel",
      "state": {
       "description_width": ""
      }
     },
     "fe5f18d3fd9f40f6be91a58d5457e810": {
      "model_module": "@jupyter-widgets/controls",
      "model_module_version": "1.5.0",
      "model_name": "DescriptionStyleModel",
      "state": {
       "description_width": ""
      }
     },
     "ffc7f2692c67491799e9fbc6734d42e3": {
      "model_module": "@jupyter-widgets/base",
      "model_module_version": "1.2.0",
      "model_name": "LayoutModel",
      "state": {}
     }
    },
    "version_major": 2,
    "version_minor": 0
   }
  }
 },
 "nbformat": 4,
 "nbformat_minor": 4
}
